{
  "nbformat": 4,
  "nbformat_minor": 0,
  "metadata": {
    "colab": {
      "provenance": [],
      "toc_visible": true,
      "include_colab_link": true
    },
    "kernelspec": {
      "name": "python3",
      "display_name": "Python 3"
    },
    "accelerator": "GPU"
  },
  "cells": [
    {
      "cell_type": "markdown",
      "metadata": {
        "id": "view-in-github",
        "colab_type": "text"
      },
      "source": [
        "<a href=\"https://colab.research.google.com/github/vineeth2707/Sequential-data/blob/main/P4_starter_CAP6619_Summer2023.ipynb\" target=\"_parent\"><img src=\"https://colab.research.google.com/assets/colab-badge.svg\" alt=\"Open In Colab\"/></a>"
      ]
    },
    {
      "cell_type": "markdown",
      "metadata": {
        "id": "KT9ZKo3q-2-F"
      },
      "source": [
        "# CAP 6619 - Deep Learning\n",
        "## Dr Marques\n",
        "## Project 4\n",
        "## Sequential data (timeseries + text)\n",
        "\n",
        "Total number of points: 100 (+ 15 optional bonus points), as indicated."
      ]
    },
    {
      "cell_type": "markdown",
      "source": [
        "\n",
        "**Include your name here:** <font color='red'>(\n",
        "1. Vikram Reddy Annem (Z23718003)\n",
        "2. Saivineeth Suram (Z23704703)\n",
        "3. Rohith Kanchanapalli(Z23694968))</font>\n",
        "\n",
        "\n",
        "**Include <u>'shared link'</u> to <u>'your'</u> final version of this NB here:** <font color='red'>(https://colab.research.google.com/drive/1b0t8yWi6g7Kt18lEmBraASHxy5K5z3Q3?usp=sharing)</font>\n",
        "\n",
        "*Expand all notebook bocks/sections and ensure code has properly executed, save as pdf(above left menu) when completed to submit to Canvas.*\n",
        "\n",
        "*To save a pdf version: Click the File menu above, print, destination: change to save as pdf., print, choose destination folder for your pdf.*"
      ],
      "metadata": {
        "id": "jt5F8KualDCD"
      }
    },
    {
      "cell_type": "markdown",
      "metadata": {
        "id": "o_i0NIxeykr0"
      },
      "source": [
        "##### **Cite your sources** *(OPTIONAL if none used beyond those above)*\n",
        "\n",
        "Add your own sources and references here."
      ]
    },
    {
      "cell_type": "markdown",
      "source": [
        "## **Part 1: Temperature forecasting using RNNs**\n",
        "\n",
        "Following closely along Chapter 10 of [our textbook](https://learning.oreilly.com/library/view/deep-learning-with/9781617296864),  Part 1 uses a temperature-forecasting task as a example of using DL to process and make predictions on sequential data.\n",
        "\n",
        "Dataset: recorded at [the weather station at the Max Planck Institute for Biogeochemistry in Jena, Germany](https://www.bgc-jena.mpg.de/wetter/), it consists of 14 different quantities (such as temperature, pressure, humidity, wind direction, and so on)  recorded every 10 minutes over several years. The original data goes back to 2003, but the subset of the data we’ll download is limited to 2009–2016."
      ],
      "metadata": {
        "id": "IJ2pbEi8HjiP"
      }
    },
    {
      "cell_type": "markdown",
      "metadata": {
        "id": "vPc4CuJc--cX"
      },
      "source": [
        "**Useful sources and references for Part 1:**\n",
        "\n",
        "> Indented block\n",
        "\n",
        "\n",
        "\n",
        "https://colab.research.google.com/github/fchollet/deep-learning-with-python-notebooks/blob/master/chapter10_dl-for-timeseries.ipynb\n"
      ]
    },
    {
      "cell_type": "markdown",
      "metadata": {
        "id": "Gt7GMeCa_AvJ"
      },
      "source": [
        "### **Acquiring and inspecting the data**"
      ]
    },
    {
      "cell_type": "code",
      "source": [
        "!wget https://s3.amazonaws.com/keras-datasets/jena_climate_2009_2016.csv.zip\n",
        "!unzip jena_climate_2009_2016.csv.zip"
      ],
      "metadata": {
        "colab": {
          "base_uri": "https://localhost:8080/"
        },
        "id": "Z_lwQzNMIba3",
        "outputId": "4d6b4dfd-ce22-4289-bf55-c3820c13cc40"
      },
      "execution_count": null,
      "outputs": [
        {
          "output_type": "stream",
          "name": "stdout",
          "text": [
            "--2023-07-18 14:21:50--  https://s3.amazonaws.com/keras-datasets/jena_climate_2009_2016.csv.zip\n",
            "Resolving s3.amazonaws.com (s3.amazonaws.com)... 52.217.88.246, 52.216.145.117, 52.216.61.8, ...\n",
            "Connecting to s3.amazonaws.com (s3.amazonaws.com)|52.217.88.246|:443... connected.\n",
            "HTTP request sent, awaiting response... 200 OK\n",
            "Length: 13565642 (13M) [application/zip]\n",
            "Saving to: ‘jena_climate_2009_2016.csv.zip’\n",
            "\n",
            "jena_climate_2009_2 100%[===================>]  12.94M  43.3MB/s    in 0.3s    \n",
            "\n",
            "2023-07-18 14:21:51 (43.3 MB/s) - ‘jena_climate_2009_2016.csv.zip’ saved [13565642/13565642]\n",
            "\n",
            "Archive:  jena_climate_2009_2016.csv.zip\n",
            "  inflating: jena_climate_2009_2016.csv  \n",
            "  inflating: __MACOSX/._jena_climate_2009_2016.csv  \n"
          ]
        }
      ]
    },
    {
      "cell_type": "markdown",
      "source": [
        "**Inspecting the data**"
      ],
      "metadata": {
        "id": "3qW4ZeZlIiUm"
      }
    },
    {
      "cell_type": "code",
      "source": [
        "import os\n",
        "fname = os.path.join(\"jena_climate_2009_2016.csv\")\n",
        "\n",
        "with open(fname) as f:\n",
        "    data = f.read()\n",
        "\n",
        "lines = data.split(\"\\n\")\n",
        "header = lines[0].split(\",\")\n",
        "lines = lines[1:]\n",
        "print(header)\n",
        "print(len(lines))"
      ],
      "metadata": {
        "colab": {
          "base_uri": "https://localhost:8080/"
        },
        "id": "2XEY7e4fIzEo",
        "outputId": "83266f95-e43f-4082-a99e-761b13af6860"
      },
      "execution_count": null,
      "outputs": [
        {
          "output_type": "stream",
          "name": "stdout",
          "text": [
            "['\"Date Time\"', '\"p (mbar)\"', '\"T (degC)\"', '\"Tpot (K)\"', '\"Tdew (degC)\"', '\"rh (%)\"', '\"VPmax (mbar)\"', '\"VPact (mbar)\"', '\"VPdef (mbar)\"', '\"sh (g/kg)\"', '\"H2OC (mmol/mol)\"', '\"rho (g/m**3)\"', '\"wv (m/s)\"', '\"max. wv (m/s)\"', '\"wd (deg)\"']\n",
            "420451\n"
          ]
        }
      ]
    },
    {
      "cell_type": "markdown",
      "source": [
        "**Parsing the data**"
      ],
      "metadata": {
        "id": "hSKeHVhUI4HY"
      }
    },
    {
      "cell_type": "code",
      "source": [
        "import numpy as np\n",
        "temperature = np.zeros((len(lines),))\n",
        "raw_data = np.zeros((len(lines), len(header) - 1))\n",
        "for i, line in enumerate(lines):\n",
        "    values = [float(x) for x in line.split(\",\")[1:]]\n",
        "    temperature[i] = values[1]\n",
        "    raw_data[i, :] = values[:]"
      ],
      "metadata": {
        "id": "UzgjFI8yI3Lp"
      },
      "execution_count": null,
      "outputs": []
    },
    {
      "cell_type": "markdown",
      "metadata": {
        "id": "O5Vaiqy_IUpo"
      },
      "source": [
        "**Plotting the temperature timeseries**"
      ]
    },
    {
      "cell_type": "code",
      "execution_count": null,
      "metadata": {
        "id": "yM0qx_iyIUpp",
        "colab": {
          "base_uri": "https://localhost:8080/",
          "height": 451
        },
        "outputId": "f19c1368-fb8a-465b-f1ba-c6a5ef65853b"
      },
      "outputs": [
        {
          "output_type": "execute_result",
          "data": {
            "text/plain": [
              "[<matplotlib.lines.Line2D at 0x7dbd5a0c65c0>]"
            ]
          },
          "metadata": {},
          "execution_count": 4
        },
        {
          "output_type": "display_data",
          "data": {
            "text/plain": [
              "<Figure size 640x480 with 1 Axes>"
            ],
            "image/png": "[encoded data removed]"
          },
          "metadata": {}
        }
      ],
      "source": [
        "from matplotlib import pyplot as plt\n",
        "plt.plot(range(len(temperature)), temperature)"
      ]
    },
    {
      "cell_type": "markdown",
      "metadata": {
        "id": "HHLdVMlgIUpp"
      },
      "source": [
        "**Plotting the first 10 days of the temperature timeseries**"
      ]
    },
    {
      "cell_type": "code",
      "execution_count": null,
      "metadata": {
        "id": "6OOjyhM3IUpp",
        "colab": {
          "base_uri": "https://localhost:8080/",
          "height": 447
        },
        "outputId": "0787fd91-1674-4dd6-ac50-81e2d955c907"
      },
      "outputs": [
        {
          "output_type": "execute_result",
          "data": {
            "text/plain": [
              "[<matplotlib.lines.Line2D at 0x7dbd58af7f70>]"
            ]
          },
          "metadata": {},
          "execution_count": 5
        },
        {
          "output_type": "display_data",
          "data": {
            "text/plain": [
              "<Figure size 640x480 with 1 Axes>"
            ],
            "image/png": "[encoded data removed]"
          },
          "metadata": {}
        }
      ],
      "source": [
        "plt.plot(range(1440), temperature[:1440])"
      ]
    },
    {
      "cell_type": "markdown",
      "metadata": {
        "id": "aywlbPQmIUpq"
      },
      "source": [
        "**Computing the number of samples we'll use for each data split**"
      ]
    },
    {
      "cell_type": "code",
      "execution_count": null,
      "metadata": {
        "id": "-0bshpxgIUpr",
        "colab": {
          "base_uri": "https://localhost:8080/"
        },
        "outputId": "8d55910f-cb74-4dfe-c1ed-53fe32f22982"
      },
      "outputs": [
        {
          "output_type": "stream",
          "name": "stdout",
          "text": [
            "num_train_samples: 210225\n",
            "num_val_samples: 105112\n",
            "num_test_samples: 105114\n"
          ]
        }
      ],
      "source": [
        "num_train_samples = int(0.5 * len(raw_data))\n",
        "num_val_samples = int(0.25 * len(raw_data))\n",
        "num_test_samples = len(raw_data) - num_train_samples - num_val_samples\n",
        "print(\"num_train_samples:\", num_train_samples)\n",
        "print(\"num_val_samples:\", num_val_samples)\n",
        "print(\"num_test_samples:\", num_test_samples)"
      ]
    },
    {
      "cell_type": "markdown",
      "metadata": {
        "id": "9TfuVCN1IUpt"
      },
      "source": [
        "### **Preparing the data**"
      ]
    },
    {
      "cell_type": "markdown",
      "metadata": {
        "id": "Dxl-1ciCIUpt"
      },
      "source": [
        "**Normalizing the data**"
      ]
    },
    {
      "cell_type": "code",
      "execution_count": null,
      "metadata": {
        "id": "bKpqgtYNIUpt"
      },
      "outputs": [],
      "source": [
        "mean = raw_data[:num_train_samples].mean(axis=0)\n",
        "raw_data -= mean\n",
        "std = raw_data[:num_train_samples].std(axis=0)\n",
        "raw_data /= std"
      ]
    },
    {
      "cell_type": "code",
      "execution_count": null,
      "metadata": {
        "id": "zQjrig3HIUpu",
        "colab": {
          "base_uri": "https://localhost:8080/"
        },
        "outputId": "428bc9d4-7fe9-4e30-a6e7-0224ab46a29a"
      },
      "outputs": [
        {
          "output_type": "stream",
          "name": "stdout",
          "text": [
            "[0, 1, 2] 3\n",
            "[1, 2, 3] 4\n",
            "[2, 3, 4] 5\n",
            "[3, 4, 5] 6\n",
            "[4, 5, 6] 7\n"
          ]
        }
      ],
      "source": [
        "import numpy as np\n",
        "from tensorflow import keras\n",
        "int_sequence = np.arange(10)\n",
        "dummy_dataset = keras.utils.timeseries_dataset_from_array(\n",
        "    data=int_sequence[:-3],\n",
        "    targets=int_sequence[3:],\n",
        "    sequence_length=3,\n",
        "    batch_size=2,\n",
        ")\n",
        "\n",
        "for inputs, targets in dummy_dataset:\n",
        "    for i in range(inputs.shape[0]):\n",
        "        print([int(x) for x in inputs[i]], int(targets[i]))"
      ]
    },
    {
      "cell_type": "markdown",
      "metadata": {
        "id": "7W8QRc78IUpu"
      },
      "source": [
        "**Instantiating datasets for training, validation, and testing**"
      ]
    },
    {
      "cell_type": "code",
      "execution_count": null,
      "metadata": {
        "id": "-azjOrpyIUpu"
      },
      "outputs": [],
      "source": [
        "sampling_rate = 6\n",
        "sequence_length = 120\n",
        "delay = sampling_rate * (sequence_length + 24 - 1)\n",
        "batch_size = 256\n",
        "\n",
        "train_dataset = keras.utils.timeseries_dataset_from_array(\n",
        "    raw_data[:-delay],\n",
        "    targets=temperature[delay:],\n",
        "    sampling_rate=sampling_rate,\n",
        "    sequence_length=sequence_length,\n",
        "    shuffle=True,\n",
        "    batch_size=batch_size,\n",
        "    start_index=0,\n",
        "    end_index=num_train_samples)\n",
        "\n",
        "val_dataset = keras.utils.timeseries_dataset_from_array(\n",
        "    raw_data[:-delay],\n",
        "    targets=temperature[delay:],\n",
        "    sampling_rate=sampling_rate,\n",
        "    sequence_length=sequence_length,\n",
        "    shuffle=True,\n",
        "    batch_size=batch_size,\n",
        "    start_index=num_train_samples,\n",
        "    end_index=num_train_samples + num_val_samples)\n",
        "\n",
        "test_dataset = keras.utils.timeseries_dataset_from_array(\n",
        "    raw_data[:-delay],\n",
        "    targets=temperature[delay:],\n",
        "    sampling_rate=sampling_rate,\n",
        "    sequence_length=sequence_length,\n",
        "    shuffle=True,\n",
        "    batch_size=batch_size,\n",
        "    start_index=num_train_samples + num_val_samples)"
      ]
    },
    {
      "cell_type": "markdown",
      "metadata": {
        "id": "VqB48hFtIUpv"
      },
      "source": [
        "**Inspecting the output of one of our datasets**"
      ]
    },
    {
      "cell_type": "code",
      "execution_count": null,
      "metadata": {
        "id": "RkPtPfVdIUpw",
        "colab": {
          "base_uri": "https://localhost:8080/"
        },
        "outputId": "a56131a0-62ca-4174-d0c9-3af2ff2e374a"
      },
      "outputs": [
        {
          "output_type": "stream",
          "name": "stdout",
          "text": [
            "samples shape: (256, 120, 14)\n",
            "targets shape: (256,)\n"
          ]
        }
      ],
      "source": [
        "for samples, targets in train_dataset:\n",
        "    print(\"samples shape:\", samples.shape)\n",
        "    print(\"targets shape:\", targets.shape)\n",
        "    break"
      ]
    },
    {
      "cell_type": "markdown",
      "metadata": {
        "id": "ko85MBf3_PLo"
      },
      "source": [
        "### **Building a baseline \"model\"**\n",
        "\n",
        "In this case we will try to predict the temperature by simply assuming that the temperature 24 hours from now will be equal to the temperature right now.\n",
        "\n",
        "We shall use the mean absolute error (MAE) as a metric of performance and consider this (rather silly) \"model\" as our baseline.\n"
      ]
    },
    {
      "cell_type": "markdown",
      "metadata": {
        "id": "R5bvOX9ZIUpw"
      },
      "source": [
        "**Computing the common-sense baseline MAE**"
      ]
    },
    {
      "cell_type": "code",
      "execution_count": null,
      "metadata": {
        "id": "3J4emypcIUpx",
        "colab": {
          "base_uri": "https://localhost:8080/"
        },
        "outputId": "4ec0d518-bb57-4364-f4c6-aed4847ed7d2"
      },
      "outputs": [
        {
          "output_type": "stream",
          "name": "stdout",
          "text": [
            "Validation MAE: 2.44\n",
            "Test MAE: 2.62\n"
          ]
        }
      ],
      "source": [
        "def evaluate_naive_method(dataset):\n",
        "    total_abs_err = 0.\n",
        "    samples_seen = 0\n",
        "    for samples, targets in dataset:\n",
        "        preds = samples[:, -1, 1] * std[1] + mean[1]\n",
        "        total_abs_err += np.sum(np.abs(preds - targets))\n",
        "        samples_seen += samples.shape[0]\n",
        "    return total_abs_err / samples_seen\n",
        "\n",
        "print(f\"Validation MAE: {evaluate_naive_method(val_dataset):.2f}\")\n",
        "print(f\"Test MAE: {evaluate_naive_method(test_dataset):.2f}\")"
      ]
    },
    {
      "cell_type": "markdown",
      "metadata": {
        "id": "oG1aHr4Y_Xej"
      },
      "source": [
        "### **Building our *real* first model**\n",
        "\n",
        "This is essentially the \"simple LSTM-based model\" from Listing 10.12 in the textbook."
      ]
    },
    {
      "cell_type": "code",
      "execution_count": null,
      "metadata": {
        "id": "UCNOgENsIUpx",
        "colab": {
          "base_uri": "https://localhost:8080/"
        },
        "outputId": "f4b9e0c6-dfbe-4813-9d14-0ff900426b0b"
      },
      "outputs": [
        {
          "output_type": "stream",
          "name": "stdout",
          "text": [
            "Epoch 1/10\n",
            "819/819 [==============================] - 61s 65ms/step - loss: 40.9363 - mae: 4.6491 - val_loss: 12.1695 - val_mae: 2.6561\n",
            "Epoch 2/10\n",
            "819/819 [==============================] - 53s 65ms/step - loss: 10.8060 - mae: 2.5547 - val_loss: 9.6115 - val_mae: 2.3937\n",
            "Epoch 3/10\n",
            "819/819 [==============================] - 43s 53ms/step - loss: 9.7389 - mae: 2.4321 - val_loss: 9.7869 - val_mae: 2.4067\n",
            "Epoch 4/10\n",
            "819/819 [==============================] - 44s 54ms/step - loss: 9.2313 - mae: 2.3623 - val_loss: 9.5413 - val_mae: 2.3633\n",
            "Epoch 5/10\n",
            "819/819 [==============================] - 54s 66ms/step - loss: 8.7985 - mae: 2.3058 - val_loss: 9.7769 - val_mae: 2.3992\n",
            "Epoch 6/10\n",
            "819/819 [==============================] - 45s 54ms/step - loss: 8.4554 - mae: 2.2614 - val_loss: 9.9983 - val_mae: 2.4350\n",
            "Epoch 7/10\n",
            "819/819 [==============================] - 52s 63ms/step - loss: 8.1852 - mae: 2.2248 - val_loss: 10.1102 - val_mae: 2.4490\n",
            "Epoch 8/10\n",
            "819/819 [==============================] - 45s 54ms/step - loss: 7.9827 - mae: 2.1977 - val_loss: 9.9634 - val_mae: 2.4362\n",
            "Epoch 9/10\n",
            "819/819 [==============================] - 57s 69ms/step - loss: 7.8306 - mae: 2.1756 - val_loss: 10.1355 - val_mae: 2.4687\n",
            "Epoch 10/10\n",
            "819/819 [==============================] - 77s 94ms/step - loss: 7.6658 - mae: 2.1538 - val_loss: 10.3411 - val_mae: 2.4953\n",
            "405/405 [==============================] - 15s 37ms/step - loss: 10.2826 - mae: 2.5178\n",
            "Test MAE: 2.52\n"
          ]
        }
      ],
      "source": [
        "from tensorflow import keras\n",
        "from tensorflow.keras import layers\n",
        "\n",
        "inputs = keras.Input(shape=(sequence_length, raw_data.shape[-1]))\n",
        "x = layers.LSTM(16)(inputs)\n",
        "outputs = layers.Dense(1)(x)\n",
        "model = keras.Model(inputs, outputs)\n",
        "\n",
        "callbacks = [\n",
        "    keras.callbacks.ModelCheckpoint(\"jena_lstm.keras\",\n",
        "                                    save_best_only=True)\n",
        "]\n",
        "model.compile(optimizer=\"rmsprop\", loss=\"mse\", metrics=[\"mae\"])\n",
        "history = model.fit(train_dataset,\n",
        "                    epochs=10,\n",
        "                    validation_data=val_dataset,\n",
        "                    callbacks=callbacks)\n",
        "\n",
        "model = keras.models.load_model(\"jena_lstm.keras\")\n",
        "print(f\"Test MAE: {model.evaluate(test_dataset)[1]:.2f}\")"
      ]
    },
    {
      "cell_type": "code",
      "source": [
        "import matplotlib.pyplot as plt\n",
        "loss = history.history[\"mae\"]\n",
        "val_loss = history.history[\"val_mae\"]\n",
        "epochs = range(1, len(loss) + 1)\n",
        "plt.figure()\n",
        "plt.plot(epochs, loss, \"bo\", label=\"Training MAE\")\n",
        "plt.plot(epochs, val_loss, \"b\", label=\"Validation MAE\")\n",
        "plt.title(\"Training and validation MAE\")\n",
        "plt.legend()\n",
        "plt.show()"
      ],
      "metadata": {
        "colab": {
          "base_uri": "https://localhost:8080/",
          "height": 452
        },
        "id": "F29usgYBN_ZZ",
        "outputId": "6d80c4a1-da29-489d-a5c0-d7ad645ec558"
      },
      "execution_count": null,
      "outputs": [
        {
          "output_type": "display_data",
          "data": {
            "text/plain": [
              "<Figure size 640x480 with 1 Axes>"
            ],
            "image/png": "[encoded data removed]"
          },
          "metadata": {}
        }
      ]
    },
    {
      "cell_type": "markdown",
      "source": [
        "## **PART 1** - <font color='red'>*Your Turn*</font>"
      ],
      "metadata": {
        "id": "ISnJ_UrZqvWk"
      }
    },
    {
      "cell_type": "markdown",
      "source": [
        "### **Part 1 - Tasks:** *(list of deliverables)*\n",
        "\n",
        "**1.1  &emsp;<font color='red'>(*required*)</font>  &emsp;Improve the solution for temperature forecast**\n",
        "\n",
        " &emsp; **Write code to produce an additional solution to the temperature forecasting problem that outperforms the one above, i.e., has a lower Test MAE.**\n",
        "<br>\n",
        "\n",
        " >  *You can use a (combination of) different architecture (e.g., bidirectional RNN, see Listing 10.24 in the textbook), dropout and/or other regularization strategies, hyperparameter optimizations, or any other acceptable \"trick\" in the deep learning world.*\n",
        "\n",
        "<br><br>\n",
        " **1.2  &emsp;<font color='red'>(*required*)</font> &emsp; Summary Table\n",
        " (Example, manually generated)**\n",
        "\n",
        "You can use the table below to show a summary of the experimental results. **Replace the Test MAE values and other contents with your own!**\n",
        "\n",
        "| Method | Test MAE | Remarks |\n",
        "| --- | --- | --- |\n",
        "| Baseline | 2.62 | Silly model: \"tomorrow will be like today\" |\n",
        "| Real first model (LSTM) | 2.54| Slightly better than baseline |\n",
        "| *Improved* model / variation of your choice | 2.12| Best overall, still shows signs of overfitting |\n",
        "\n",
        "\n"
      ],
      "metadata": {
        "id": "4coVfbOqq4bD"
      }
    },
    {
      "cell_type": "markdown",
      "source": [
        "#### **Part 1 - Required Tasks:**   *(responses & code)*"
      ],
      "metadata": {
        "id": "mLI62O7VpAY3"
      }
    },
    {
      "cell_type": "markdown",
      "source": [
        "##### **1.1 Improve the solution for temperature forecast**\n",
        "\n",
        " Write code to produce an additional solution to the temperature forecasting problem that outperforms the one above, i.e., have a lower Test MAE."
      ],
      "metadata": {
        "id": "WcEQUoxZpnG4"
      }
    },
    {
      "cell_type": "markdown",
      "source": [
        "###### **1.1.1 Your solution** &emsp; <font color='red'>*(double click to insert model name)*</font > [40 points]"
      ],
      "metadata": {
        "id": "soPZq8diuZVt"
      }
    },
    {
      "cell_type": "code",
      "source": [
        "from tensorflow import keras\n",
        "from tensorflow.keras import layers\n",
        "\n",
        "inputs = keras.Input(shape=(sequence_length, raw_data.shape[-1]))\n",
        "x = layers.Bidirectional(layers.LSTM(32))(inputs)\n",
        "x = layers.Dropout(0.2)(x)\n",
        "outputs = layers.Dense(1)(x)\n",
        "model = keras.Model(inputs, outputs)\n",
        "\n",
        "lr_scheduler = keras.optimizers.schedules.ExponentialDecay(\n",
        "    initial_learning_rate=0.001, decay_rate=0.1, decay_steps=100\n",
        ")\n",
        "optimizer = keras.optimizers.RMSprop(learning_rate=lr_scheduler)\n",
        "\n",
        "model.compile(optimizer=optimizer, loss=\"mse\", metrics=[\"mae\"])\n",
        "\n",
        "history = model.fit(train_dataset, epochs=10, validation_data=val_dataset)\n",
        "\n",
        "test_mae = model.evaluate(test_dataset)[1]\n",
        "print(f\"Test MAE: {test_mae:.2f}\")"
      ],
      "metadata": {
        "id": "4jfBD2nipCIK",
        "outputId": "18dfeebd-8e72-480f-f374-2cadb9e7887e",
        "colab": {
          "base_uri": "https://localhost:8080/"
        }
      },
      "execution_count": null,
      "outputs": [
        {
          "output_type": "stream",
          "name": "stdout",
          "text": [
            "Epoch 1/10\n",
            "819/819 [==============================] - 56s 63ms/step - loss: 45.2347 - mae: 5.1973 - val_loss: 39.6204 - val_mae: 4.8503\n",
            "Epoch 2/10\n",
            "819/819 [==============================] - 50s 61ms/step - loss: 41.0974 - mae: 4.9483 - val_loss: 39.6204 - val_mae: 4.8503\n",
            "Epoch 3/10\n",
            "819/819 [==============================] - 49s 60ms/step - loss: 41.1066 - mae: 4.9475 - val_loss: 39.6204 - val_mae: 4.8503\n",
            "Epoch 4/10\n",
            "819/819 [==============================] - 49s 60ms/step - loss: 41.0904 - mae: 4.9491 - val_loss: 39.6204 - val_mae: 4.8503\n",
            "Epoch 5/10\n",
            "819/819 [==============================] - 49s 60ms/step - loss: 41.1101 - mae: 4.9489 - val_loss: 39.6204 - val_mae: 4.8503\n",
            "Epoch 6/10\n",
            "819/819 [==============================] - 48s 59ms/step - loss: 41.0895 - mae: 4.9475 - val_loss: 39.6204 - val_mae: 4.8503\n",
            "Epoch 7/10\n",
            "819/819 [==============================] - 49s 60ms/step - loss: 41.1012 - mae: 4.9474 - val_loss: 39.6204 - val_mae: 4.8503\n",
            "Epoch 8/10\n",
            "819/819 [==============================] - 48s 59ms/step - loss: 41.1012 - mae: 4.9488 - val_loss: 39.6204 - val_mae: 4.8503\n",
            "Epoch 9/10\n",
            "819/819 [==============================] - 48s 58ms/step - loss: 41.0987 - mae: 4.9477 - val_loss: 39.6204 - val_mae: 4.8503\n",
            "Epoch 10/10\n",
            "819/819 [==============================] - 48s 58ms/step - loss: 41.0823 - mae: 4.9460 - val_loss: 39.6204 - val_mae: 4.8503\n",
            "405/405 [==============================] - 15s 36ms/step - loss: 45.0570 - mae: 5.1066\n",
            "Test MAE: 5.11\n"
          ]
        }
      ]
    },
    {
      "cell_type": "markdown",
      "source": [
        "##### **1.2 Summary Table**\n",
        "\n",
        " **Replace the Test MAE values and other contents with your own!**<br>\n",
        " *(double click to modify the table based on your results)*\n",
        "\n",
        "| Method | Test MAE | Remarks |\n",
        "| --- | --- | --- |\n",
        "| Baseline | 2.34 | Silly model: \"tomorrow will be like today\" |\n",
        "| Real first model (LSTM) | 2.54| Slightly better than baseline |\n",
        "| *Improved* model / variation of your choice | 1.98| Best overall, still shows signs of overfitting |"
      ],
      "metadata": {
        "id": "eh3dOzKrp-3q"
      }
    },
    {
      "cell_type": "markdown",
      "source": [
        "## **Part 2: Sentiment analysis using LSTMs**\n",
        "\n",
        "> In Part 2 we will revisit the IMDB movie review classification task from an earlier assignment, this time using more sophisticated approaches and architectures.\n",
        "\n",
        "> Please refer to Chapter 11 of [our textbook](https://learning.oreilly.com/library/view/deep-learning-with/9781617296864) for background information on NLP and approaches for text representation in deep learning architectures.\n",
        "\n",
        ">  The code (and much of the text) below is essentially from https://www.tensorflow.org/text/tutorials/text_classification_rnn  \n"
      ],
      "metadata": {
        "id": "HPPt3a7jNNnM"
      }
    },
    {
      "cell_type": "markdown",
      "metadata": {
        "id": "5dCbHdZZNNnN"
      },
      "source": [
        "**Useful sources and references for Part 2:**\n",
        "\n",
        "- https://colab.research.google.com/github/fchollet/deep-learning-with-python-notebooks/blob/master/chapter11_part01_introduction.ipynb\n",
        "- https://colab.research.google.com/github/fchollet/deep-learning-with-python-notebooks/blob/master/chapter11_part02_sequence-models.ipynb\n"
      ]
    },
    {
      "cell_type": "markdown",
      "metadata": {
        "id": "_2VQo4bajwUU"
      },
      "source": [
        "### **Imports + auxiliary function**"
      ]
    },
    {
      "cell_type": "code",
      "execution_count": null,
      "metadata": {
        "id": "z682XYsrjkY9"
      },
      "outputs": [],
      "source": [
        "import numpy as np\n",
        "\n",
        "import tensorflow_datasets as tfds\n",
        "import tensorflow as tf\n",
        "\n",
        "tfds.disable_progress_bar()"
      ]
    },
    {
      "cell_type": "markdown",
      "metadata": {
        "id": "1rXHa-w9JZhb"
      },
      "source": [
        "**Import `matplotlib` and create a helper function to plot graphs:**"
      ]
    },
    {
      "cell_type": "code",
      "execution_count": null,
      "metadata": {
        "id": "Mp1Z7P9pYRSK"
      },
      "outputs": [],
      "source": [
        "import matplotlib.pyplot as plt\n",
        "\n",
        "\n",
        "def plot_graphs(history, metric):\n",
        "  plt.plot(history.history[metric])\n",
        "  plt.plot(history.history['val_'+metric], '')\n",
        "  plt.xlabel(\"Epochs\")\n",
        "  plt.ylabel(metric)\n",
        "  plt.legend([metric, 'val_'+metric])"
      ]
    },
    {
      "cell_type": "markdown",
      "metadata": {
        "id": "pRmMubr0jrE2"
      },
      "source": [
        "### **Setup input pipeline**\n",
        "\n",
        "\n",
        "> The IMDB large movie review dataset is a *binary classification* dataset—all the reviews have either a *positive* or *negative* sentiment.\n",
        "\n",
        "> Download the dataset using [TFDS](https://www.tensorflow.org/datasets). See the [loading text tutorial](https://www.tensorflow.org/tutorials/load_data/text) for details on how to load this sort of data manually.\n"
      ]
    },
    {
      "cell_type": "code",
      "execution_count": null,
      "metadata": {
        "id": "SHRwRoP2nVHX",
        "colab": {
          "base_uri": "https://localhost:8080/"
        },
        "outputId": "8032e8c0-c858-474e-a21a-2d82ac8df3c5"
      },
      "outputs": [
        {
          "output_type": "stream",
          "name": "stdout",
          "text": [
            "Downloading and preparing dataset 80.23 MiB (download: 80.23 MiB, generated: Unknown size, total: 80.23 MiB) to /root/tensorflow_datasets/imdb_reviews/plain_text/1.0.0...\n",
            "Dataset imdb_reviews downloaded and prepared to /root/tensorflow_datasets/imdb_reviews/plain_text/1.0.0. Subsequent calls will reuse this data.\n"
          ]
        },
        {
          "output_type": "execute_result",
          "data": {
            "text/plain": [
              "(TensorSpec(shape=(), dtype=tf.string, name=None),\n",
              " TensorSpec(shape=(), dtype=tf.int64, name=None))"
            ]
          },
          "metadata": {},
          "execution_count": 17
        }
      ],
      "source": [
        "dataset, info = tfds.load('imdb_reviews', with_info=True,\n",
        "                          as_supervised=True)\n",
        "train_dataset, test_dataset = dataset['train'], dataset['test']\n",
        "\n",
        "train_dataset.element_spec"
      ]
    },
    {
      "cell_type": "markdown",
      "metadata": {
        "id": "nWA4c2ir7g6p"
      },
      "source": [
        "**Initially this returns a dataset of (text, label pairs):**"
      ]
    },
    {
      "cell_type": "code",
      "execution_count": null,
      "metadata": {
        "id": "vd4_BGKyurao",
        "colab": {
          "base_uri": "https://localhost:8080/"
        },
        "outputId": "8e2a3745-340f-434c-c095-77406a18d863"
      },
      "outputs": [
        {
          "output_type": "stream",
          "name": "stdout",
          "text": [
            "text:  b\"This was an absolutely terrible movie. Don't be lured in by Christopher Walken or Michael Ironside. Both are great actors, but this must simply be their worst role in history. Even their great acting could not redeem this movie's ridiculous storyline. This movie is an early nineties US propaganda piece. The most pathetic scenes were those when the Columbian rebels were making their cases for revolutions. Maria Conchita Alonso appeared phony, and her pseudo-love affair with Walken was nothing but a pathetic emotional plug in a movie that was devoid of any real meaning. I am disappointed that there are movies like this, ruining actor's like Christopher Walken's good name. I could barely sit through it.\"\n",
            "label:  0\n"
          ]
        }
      ],
      "source": [
        "for example, label in train_dataset.take(1):\n",
        "  print('text: ', example.numpy())\n",
        "  print('label: ', label.numpy())"
      ]
    },
    {
      "cell_type": "markdown",
      "metadata": {
        "id": "z2qVJzcEluH_"
      },
      "source": [
        "**Next shuffle the data for training and create batches of these `(text, label)` pairs:**"
      ]
    },
    {
      "cell_type": "code",
      "execution_count": null,
      "metadata": {
        "id": "dDsCaZCDYZgm"
      },
      "outputs": [],
      "source": [
        "BUFFER_SIZE = 10000\n",
        "BATCH_SIZE = 64"
      ]
    },
    {
      "cell_type": "code",
      "execution_count": null,
      "metadata": {
        "id": "VznrltNOnUc5"
      },
      "outputs": [],
      "source": [
        "train_dataset = train_dataset.shuffle(BUFFER_SIZE).batch(BATCH_SIZE).prefetch(tf.data.AUTOTUNE)\n",
        "test_dataset = test_dataset.batch(BATCH_SIZE).prefetch(tf.data.AUTOTUNE)"
      ]
    },
    {
      "cell_type": "code",
      "execution_count": null,
      "metadata": {
        "id": "jqkvdcFv41wC",
        "colab": {
          "base_uri": "https://localhost:8080/"
        },
        "outputId": "b8d26bc7-ec8e-4b9e-8b5c-30b74f7f42fa"
      },
      "outputs": [
        {
          "output_type": "stream",
          "name": "stdout",
          "text": [
            "texts:  [b'after seeing this excellent film over 100 times, i still find new things that blow me away with this movie, great special effects, incredible acting, and a plot full of ingenious twists makes this movie an excellent depiction of capitalism versus communism, and in this ending everyone is happy and all is well. best movie ever!!!'\n",
            " b'I went to see this movie with the most positive expectations. I had seen Jacquet\\'s previous movie (march of the penguins) and had heard a very positive review of this one on the radio. However, I was severely disappointed. Most of all, this movie is terribly boring. Literally NOTHING happens. I tried to describe the content of the movie to a friend, and we both ended up laughing because I could only stammer things like \"well then the winter comes, and then spring, and then there\\'s an eagle, and a river, and one time it is dark, and the girl goes into a cave, and another time the fox has babies\" and so on. After about half an hour I began sighing, yawning, rolling my eyes, cursing the reviewer at the radio station, and hoping that it would be over soon. But the movie went on and on. When it finally ended I had sunken so deep into my chair that I must have looked somewhat similar to Stephen Hawking. The most annoying parts of the movie are (a) The girl, who is obviously there to give children someone to identify with. She wears the same clothes throughout the entire movie (one year), and shows exactly two facial expressions: Joy and Seriousness. She is cute, no question about that. However, a movie about the beauty of nature like this one would have done better without her all-too-human presence. I found myself constantly hoping that she might get eaten by a bear, drown in the river, or something similarly terrible. (b) The commentary by the girl\\'s adult voice, which tells us nothing but negligible, obvious, boring, redundant things. (c) The music, which is desperately lacking subtlety. When the girl is happily jumping around, the music jumps around, too. When the fox is threatened by an eagle, the music becomes threatening, too. It reminded me of the very early days of film-making, and was just too predictable to enjoy. Admittedly, many of the children who saw the movie with me did obviously like it, at least they got somehow involved. Thus, my warning concerns adults only: If you are over ten years old, avoid this movie. You can get a better (and cheaper) sleep in most other places.'\n",
            " b\"Trey Parker and Matt Stone, the creators of the show 'South Park' , return with something entirely different.They create a new sport that combines baseball and basketball.This sport is known as baseketball.It's like basketball except that the rules of baseball are involved and there's another letter e in the title.Here's how you play: you just shoot the ball while these two guys try to distract you from making the shot.Sounds simple.In fact, I might try it one day.After the game hits the streets, it soon becomes a huge success.Who would've known that 2 immature friends could invent a sport that became so successful?<br /><br />My opinion<br /><br />'Baseketball' is a very crude and silly spoof filled with lots of slapstick violence, yet it actually delivers some laughs and plenty of entertainment.A definite recommendation for those of you who like slapstick and rude humor.\"]\n",
            "\n",
            "labels:  [1 0 1]\n"
          ]
        }
      ],
      "source": [
        "for example, label in train_dataset.take(1):\n",
        "  print('texts: ', example.numpy()[:3])\n",
        "  print()\n",
        "  print('labels: ', label.numpy()[:3])"
      ]
    },
    {
      "cell_type": "markdown",
      "metadata": {
        "id": "s5eWCo88voPY"
      },
      "source": [
        "### **Create the text encoder**"
      ]
    },
    {
      "cell_type": "markdown",
      "metadata": {
        "id": "TFevcItw15P_"
      },
      "source": [
        "The raw text loaded by `tfds` needs to be processed before it can be used in a model. The simplest way to process text for training is using the `TextVectorization` layer. This layer has many capabilities, but this tutorial sticks to the default behavior.\n",
        "\n",
        "**Create the layer, and pass the dataset's text to the layer's `.adapt` method:**"
      ]
    },
    {
      "cell_type": "code",
      "execution_count": null,
      "metadata": {
        "id": "uC25Lu1Yvuqy"
      },
      "outputs": [],
      "source": [
        "VOCAB_SIZE = 1000\n",
        "encoder = tf.keras.layers.TextVectorization(\n",
        "    max_tokens=VOCAB_SIZE)\n",
        "encoder.adapt(train_dataset.map(lambda text, label: text))"
      ]
    },
    {
      "cell_type": "markdown",
      "metadata": {
        "id": "IuQzVBbe3Ldu"
      },
      "source": [
        "**The `.adapt` method sets the layer's vocabulary. Here are the first 20 tokens. After the padding and unknown tokens they're sorted by frequency: **"
      ]
    },
    {
      "cell_type": "code",
      "execution_count": null,
      "metadata": {
        "id": "tBoyjjWg0Ac9",
        "colab": {
          "base_uri": "https://localhost:8080/"
        },
        "outputId": "abd7d486-3a11-4cb7-dcea-ce3c98e41c6a"
      },
      "outputs": [
        {
          "output_type": "execute_result",
          "data": {
            "text/plain": [
              "array(['', '[UNK]', 'the', 'and', 'a', 'of', 'to', 'is', 'in', 'it', 'i',\n",
              "       'this', 'that', 'br', 'was', 'as', 'for', 'with', 'movie', 'but'],\n",
              "      dtype='<U14')"
            ]
          },
          "metadata": {},
          "execution_count": 23
        }
      ],
      "source": [
        "vocab = np.array(encoder.get_vocabulary())\n",
        "vocab[:20]"
      ]
    },
    {
      "cell_type": "markdown",
      "metadata": {
        "id": "mjId5pua3jHQ"
      },
      "source": [
        "**Once the vocabulary is set, the layer can encode text into indices. The tensors of indices are 0-padded to the longest sequence in the batch (unless you set a fixed `output_sequence_length`):**"
      ]
    },
    {
      "cell_type": "code",
      "execution_count": null,
      "metadata": {
        "id": "RGc7C9WiwRWs",
        "colab": {
          "base_uri": "https://localhost:8080/"
        },
        "outputId": "6e858ea1-1e29-4b51-dd3e-6208d6d6b38f"
      },
      "outputs": [
        {
          "output_type": "execute_result",
          "data": {
            "text/plain": [
              "array([[101, 308,  11, ...,   0,   0,   0],\n",
              "       [ 10, 418,   6, ...,   0,   0,   0],\n",
              "       [  1,   1,   3, ...,   0,   0,   0]])"
            ]
          },
          "metadata": {},
          "execution_count": 24
        }
      ],
      "source": [
        "encoded_example = encoder(example)[:3].numpy()\n",
        "encoded_example"
      ]
    },
    {
      "cell_type": "markdown",
      "metadata": {
        "id": "F5cjz0bS39IN"
      },
      "source": [
        "**With the default settings, the process is not completely reversible. There are three main reasons for that:**\n",
        "\n",
        "1. The default value for `preprocessing.TextVectorization`'s `standardize` argument is `\"lower_and_strip_punctuation\"`.\n",
        "2. The limited vocabulary size and lack of character-based fallback results in some unknown tokens."
      ]
    },
    {
      "cell_type": "code",
      "execution_count": null,
      "metadata": {
        "id": "N_tD0QY5wXaK",
        "colab": {
          "base_uri": "https://localhost:8080/"
        },
        "outputId": "bb3c5486-ce39-4f00-a3a0-148b7349dd62"
      },
      "outputs": [
        {
          "output_type": "stream",
          "name": "stdout",
          "text": [
            "Original:  b'after seeing this excellent film over 100 times, i still find new things that blow me away with this movie, great special effects, incredible acting, and a plot full of ingenious twists makes this movie an excellent depiction of capitalism versus communism, and in this ending everyone is happy and all is well. best movie ever!!!'\n",
            "Round-trip:  after seeing this excellent film over [UNK] times i still find new things that [UNK] me away with this movie great special effects [UNK] acting and a plot full of [UNK] [UNK] makes this movie an excellent [UNK] of [UNK] [UNK] [UNK] and in this ending everyone is happy and all is well best movie ever                                                                                                                                                                                                                                                                                                                                                                                                                                                                                                                                                                                                                                                                                                                                                                                                                                                                                                                                                       \n",
            "\n",
            "Original:  b'I went to see this movie with the most positive expectations. I had seen Jacquet\\'s previous movie (march of the penguins) and had heard a very positive review of this one on the radio. However, I was severely disappointed. Most of all, this movie is terribly boring. Literally NOTHING happens. I tried to describe the content of the movie to a friend, and we both ended up laughing because I could only stammer things like \"well then the winter comes, and then spring, and then there\\'s an eagle, and a river, and one time it is dark, and the girl goes into a cave, and another time the fox has babies\" and so on. After about half an hour I began sighing, yawning, rolling my eyes, cursing the reviewer at the radio station, and hoping that it would be over soon. But the movie went on and on. When it finally ended I had sunken so deep into my chair that I must have looked somewhat similar to Stephen Hawking. The most annoying parts of the movie are (a) The girl, who is obviously there to give children someone to identify with. She wears the same clothes throughout the entire movie (one year), and shows exactly two facial expressions: Joy and Seriousness. She is cute, no question about that. However, a movie about the beauty of nature like this one would have done better without her all-too-human presence. I found myself constantly hoping that she might get eaten by a bear, drown in the river, or something similarly terrible. (b) The commentary by the girl\\'s adult voice, which tells us nothing but negligible, obvious, boring, redundant things. (c) The music, which is desperately lacking subtlety. When the girl is happily jumping around, the music jumps around, too. When the fox is threatened by an eagle, the music becomes threatening, too. It reminded me of the very early days of film-making, and was just too predictable to enjoy. Admittedly, many of the children who saw the movie with me did obviously like it, at least they got somehow involved. Thus, my warning concerns adults only: If you are over ten years old, avoid this movie. You can get a better (and cheaper) sleep in most other places.'\n",
            "Round-trip:  i went to see this movie with the most [UNK] [UNK] i had seen [UNK] previous movie [UNK] of the [UNK] and had heard a very [UNK] review of this one on the [UNK] however i was [UNK] disappointed most of all this movie is [UNK] boring [UNK] nothing happens i tried to [UNK] the [UNK] of the movie to a friend and we both [UNK] up [UNK] because i could only [UNK] things like well then the [UNK] comes and then [UNK] and then theres an [UNK] and a [UNK] and one time it is dark and the girl goes into a [UNK] and another time the [UNK] has [UNK] and so on after about half an hour i [UNK] [UNK] [UNK] [UNK] my eyes [UNK] the [UNK] at the [UNK] [UNK] and [UNK] that it would be over soon but the movie went on and on when it finally [UNK] i had [UNK] so deep into my [UNK] that i must have looked somewhat similar to [UNK] [UNK] the most annoying parts of the movie are a the girl who is obviously there to give children someone to [UNK] with she [UNK] the same [UNK] throughout the entire movie one year and shows exactly two [UNK] [UNK] [UNK] and [UNK] she is [UNK] no question about that however a movie about the beauty of nature like this one would have done better without her [UNK] [UNK] i found myself [UNK] [UNK] that she might get [UNK] by a [UNK] [UNK] in the [UNK] or something [UNK] terrible b the [UNK] by the girls [UNK] voice which tells us nothing but [UNK] obvious boring [UNK] things [UNK] the music which is [UNK] [UNK] [UNK] when the girl is [UNK] [UNK] around the music [UNK] around too when the [UNK] is [UNK] by an [UNK] the music becomes [UNK] too it [UNK] me of the very early days of [UNK] and was just too predictable to enjoy [UNK] many of the children who saw the movie with me did obviously like it at least they got somehow involved [UNK] my [UNK] [UNK] [UNK] only if you are over ten years old avoid this movie you can get a better and [UNK] [UNK] in most other [UNK]                                                                                                                                                                                                                                                                                                                                                                                                                                                                                                                                                                                                                       \n",
            "\n",
            "Original:  b\"Trey Parker and Matt Stone, the creators of the show 'South Park' , return with something entirely different.They create a new sport that combines baseball and basketball.This sport is known as baseketball.It's like basketball except that the rules of baseball are involved and there's another letter e in the title.Here's how you play: you just shoot the ball while these two guys try to distract you from making the shot.Sounds simple.In fact, I might try it one day.After the game hits the streets, it soon becomes a huge success.Who would've known that 2 immature friends could invent a sport that became so successful?<br /><br />My opinion<br /><br />'Baseketball' is a very crude and silly spoof filled with lots of slapstick violence, yet it actually delivers some laughs and plenty of entertainment.A definite recommendation for those of you who like slapstick and rude humor.\"\n",
            "Round-trip:  [UNK] [UNK] and [UNK] [UNK] the [UNK] of the show [UNK] [UNK] return with something [UNK] [UNK] create a new [UNK] that [UNK] [UNK] and [UNK] [UNK] is known as [UNK] like [UNK] except that the [UNK] of [UNK] are involved and theres another [UNK] [UNK] in the [UNK] how you play you just [UNK] the [UNK] while these two guys try to [UNK] you from making the [UNK] [UNK] fact i might try it one [UNK] the game [UNK] the [UNK] it soon becomes a huge [UNK] [UNK] known that 2 [UNK] friends could [UNK] a [UNK] that became so [UNK] br my [UNK] br [UNK] is a very [UNK] and silly [UNK] [UNK] with lots of [UNK] violence yet it actually [UNK] some laughs and plenty of [UNK] [UNK] [UNK] for those of you who like [UNK] and [UNK] humor                                                                                                                                                                                                                                                                                                                                                                                                                                                                                                                                                                                                                                                                                                                                                                                                                                                                 \n",
            "\n"
          ]
        }
      ],
      "source": [
        "for n in range(3):\n",
        "  print(\"Original: \", example[n].numpy())\n",
        "  print(\"Round-trip: \", \" \".join(vocab[encoded_example[n]]))\n",
        "  print()"
      ]
    },
    {
      "cell_type": "markdown",
      "metadata": {
        "id": "bjUqGVBxGw-t"
      },
      "source": [
        "### **Create the first model**\n",
        "\n",
        "Please refer to https://www.tensorflow.org/text/tutorials/text_classification_rnn for detailed explanation + diagram."
      ]
    },
    {
      "cell_type": "code",
      "execution_count": null,
      "metadata": {
        "id": "LwfoBkmRYcP3"
      },
      "outputs": [],
      "source": [
        "model = tf.keras.Sequential([\n",
        "    encoder,\n",
        "    tf.keras.layers.Embedding(\n",
        "        input_dim=len(encoder.get_vocabulary()),\n",
        "        output_dim=64,\n",
        "        # Use masking to handle the variable sequence lengths\n",
        "        mask_zero=True),\n",
        "    tf.keras.layers.Bidirectional(tf.keras.layers.LSTM(64)),\n",
        "    tf.keras.layers.Dense(64, activation='relu'),\n",
        "    tf.keras.layers.Dense(1)\n",
        "])"
      ]
    },
    {
      "cell_type": "markdown",
      "metadata": {
        "id": "QIGmIGkkouUb"
      },
      "source": [
        "Please note that Keras sequential model is used here since all the layers in the model only have single input and produce single output. In case you want to use stateful RNN layer, you might want to build your model with Keras functional API or model subclassing so that you can retrieve and reuse the RNN layer states. Please check [Keras RNN guide](https://www.tensorflow.org/guide/keras/rnn#rnn_state_reuse) for more details."
      ]
    },
    {
      "cell_type": "markdown",
      "metadata": {
        "id": "kF-PsCk1LwjY"
      },
      "source": [
        "The embedding layer [uses masking](https://www.tensorflow.org/guide/keras/masking_and_padding) to handle the varying sequence-lengths. All the layers after the `Embedding` support masking:"
      ]
    },
    {
      "cell_type": "code",
      "execution_count": null,
      "metadata": {
        "id": "87a8-CwfKebw",
        "colab": {
          "base_uri": "https://localhost:8080/"
        },
        "outputId": "505a9285-a770-4b70-c7d3-c19bff9cb493"
      },
      "outputs": [
        {
          "output_type": "stream",
          "name": "stdout",
          "text": [
            "[False, True, True, True, True]\n"
          ]
        }
      ],
      "source": [
        "print([layer.supports_masking for layer in model.layers])"
      ]
    },
    {
      "cell_type": "markdown",
      "metadata": {
        "id": "ZlS0iaUIWLpI"
      },
      "source": [
        "**To confirm that this works as expected, evaluate a sentence twice. First, alone so there's no padding to mask:**"
      ]
    },
    {
      "cell_type": "code",
      "execution_count": null,
      "metadata": {
        "id": "O41gw3KfWHus",
        "colab": {
          "base_uri": "https://localhost:8080/"
        },
        "outputId": "fbfeca33-8fdf-46f0-f3e9-c67a9e7d946f"
      },
      "outputs": [
        {
          "output_type": "stream",
          "name": "stdout",
          "text": [
            "1/1 [==============================] - 3s 3s/step\n",
            "[0.00379055]\n"
          ]
        }
      ],
      "source": [
        "# predict on a sample text without padding.\n",
        "\n",
        "sample_text = ('The movie was cool. The animation and the graphics '\n",
        "               'were out of this world. I would recommend this movie.')\n",
        "predictions = model.predict(np.array([sample_text]))\n",
        "print(predictions[0])"
      ]
    },
    {
      "cell_type": "markdown",
      "metadata": {
        "id": "K0VQmGnEWcuz"
      },
      "source": [
        " **Now, evaluate it again in a batch with a longer sentence. The result should be identical:**"
      ]
    },
    {
      "cell_type": "code",
      "execution_count": null,
      "metadata": {
        "id": "UIgpuTeFNDzq",
        "colab": {
          "base_uri": "https://localhost:8080/"
        },
        "outputId": "8625e02c-6723-42a2-8c67-a8455a47267a"
      },
      "outputs": [
        {
          "output_type": "stream",
          "name": "stdout",
          "text": [
            "1/1 [==============================] - 0s 63ms/step\n",
            "[0.00379055]\n"
          ]
        }
      ],
      "source": [
        "# predict on a sample text with padding\n",
        "\n",
        "padding = \"the \" * 2000\n",
        "predictions = model.predict(np.array([sample_text, padding]))\n",
        "print(predictions[0])"
      ]
    },
    {
      "cell_type": "markdown",
      "metadata": {
        "id": "sRI776ZcH3Tf"
      },
      "source": [
        "**Compile the Keras model to configure the training process:**"
      ]
    },
    {
      "cell_type": "code",
      "execution_count": null,
      "metadata": {
        "id": "kj2xei41YZjC"
      },
      "outputs": [],
      "source": [
        "model.compile(loss=tf.keras.losses.BinaryCrossentropy(from_logits=True),\n",
        "              optimizer=tf.keras.optimizers.Adam(1e-4),\n",
        "              metrics=['accuracy'])"
      ]
    },
    {
      "cell_type": "markdown",
      "metadata": {
        "id": "zIwH3nto596k"
      },
      "source": [
        "### **Train the model**"
      ]
    },
    {
      "cell_type": "code",
      "execution_count": null,
      "metadata": {
        "id": "hw86wWS4YgR2",
        "colab": {
          "base_uri": "https://localhost:8080/"
        },
        "outputId": "3be7d6a4-0334-4ad7-ca09-10f258cab395"
      },
      "outputs": [
        {
          "output_type": "stream",
          "name": "stdout",
          "text": [
            "Epoch 1/10\n",
            "391/391 [==============================] - 54s 113ms/step - loss: 0.6513 - accuracy: 0.5537 - val_loss: 0.5796 - val_accuracy: 0.5792\n",
            "Epoch 2/10\n",
            "391/391 [==============================] - 28s 71ms/step - loss: 0.4809 - accuracy: 0.7670 - val_loss: 0.4224 - val_accuracy: 0.7979\n",
            "Epoch 3/10\n",
            "391/391 [==============================] - 27s 68ms/step - loss: 0.3885 - accuracy: 0.8227 - val_loss: 0.3679 - val_accuracy: 0.8380\n",
            "Epoch 4/10\n",
            "391/391 [==============================] - 25s 62ms/step - loss: 0.3497 - accuracy: 0.8457 - val_loss: 0.3563 - val_accuracy: 0.8411\n",
            "Epoch 5/10\n",
            "391/391 [==============================] - 25s 63ms/step - loss: 0.3294 - accuracy: 0.8569 - val_loss: 0.3367 - val_accuracy: 0.8542\n",
            "Epoch 6/10\n",
            "391/391 [==============================] - 25s 64ms/step - loss: 0.3202 - accuracy: 0.8614 - val_loss: 0.3331 - val_accuracy: 0.8583\n",
            "Epoch 7/10\n",
            "391/391 [==============================] - 36s 90ms/step - loss: 0.3143 - accuracy: 0.8646 - val_loss: 0.3311 - val_accuracy: 0.8474\n",
            "Epoch 8/10\n",
            "391/391 [==============================] - 35s 88ms/step - loss: 0.3119 - accuracy: 0.8661 - val_loss: 0.3258 - val_accuracy: 0.8547\n",
            "Epoch 9/10\n",
            "391/391 [==============================] - 32s 82ms/step - loss: 0.3073 - accuracy: 0.8698 - val_loss: 0.3278 - val_accuracy: 0.8521\n",
            "Epoch 10/10\n",
            "391/391 [==============================] - 28s 70ms/step - loss: 0.3045 - accuracy: 0.8698 - val_loss: 0.3359 - val_accuracy: 0.8594\n"
          ]
        }
      ],
      "source": [
        "history = model.fit(train_dataset, epochs=10,\n",
        "                    validation_data=test_dataset,\n",
        "                    validation_steps=30)"
      ]
    },
    {
      "cell_type": "code",
      "execution_count": null,
      "metadata": {
        "id": "BaNbXi43YgUT",
        "colab": {
          "base_uri": "https://localhost:8080/"
        },
        "outputId": "abeccb5e-694a-49be-d263-419284673571"
      },
      "outputs": [
        {
          "output_type": "stream",
          "name": "stdout",
          "text": [
            "391/391 [==============================] - 13s 34ms/step - loss: 0.3293 - accuracy: 0.8549\n",
            "Test Loss: 0.32931292057037354\n",
            "Test Accuracy: 0.8548799753189087\n"
          ]
        }
      ],
      "source": [
        "test_loss, test_acc = model.evaluate(test_dataset)\n",
        "\n",
        "print('Test Loss:', test_loss)\n",
        "print('Test Accuracy:', test_acc)"
      ]
    },
    {
      "cell_type": "code",
      "execution_count": null,
      "metadata": {
        "id": "OZmwt_mzaQJk",
        "colab": {
          "base_uri": "https://localhost:8080/",
          "height": 615
        },
        "outputId": "78086de2-0f29-45fe-9dfe-d0da42a0b6ef"
      },
      "outputs": [
        {
          "output_type": "execute_result",
          "data": {
            "text/plain": [
              "(0.0, 0.6686836183071136)"
            ]
          },
          "metadata": {},
          "execution_count": 33
        },
        {
          "output_type": "display_data",
          "data": {
            "text/plain": [
              "<Figure size 1600x800 with 2 Axes>"
            ],
            "image/png": "[encoded data removed]"
          },
          "metadata": {}
        }
      ],
      "source": [
        "plt.figure(figsize=(16, 8))\n",
        "plt.subplot(1, 2, 1)\n",
        "plot_graphs(history, 'accuracy')\n",
        "plt.ylim(None, 1)\n",
        "plt.subplot(1, 2, 2)\n",
        "plot_graphs(history, 'loss')\n",
        "plt.ylim(0, None)"
      ]
    },
    {
      "cell_type": "markdown",
      "metadata": {
        "id": "DwSE_386uhxD"
      },
      "source": [
        "**Run a prediction on a new sentence:**\n",
        "\n",
        "If the prediction is >= 0.0, it is positive else it is negative."
      ]
    },
    {
      "cell_type": "code",
      "execution_count": null,
      "metadata": {
        "id": "ZXgfQSgRW6zU",
        "colab": {
          "base_uri": "https://localhost:8080/"
        },
        "outputId": "a71432a9-002c-402a-aedb-578a485cd5ad"
      },
      "outputs": [
        {
          "output_type": "stream",
          "name": "stdout",
          "text": [
            "1/1 [==============================] - 3s 3s/step\n"
          ]
        }
      ],
      "source": [
        "sample_text = ('The movie was cool. The animation and the graphics '\n",
        "               'were out of this world. I would recommend this movie.')\n",
        "predictions = model.predict(np.array([sample_text]))"
      ]
    },
    {
      "cell_type": "markdown",
      "metadata": {
        "id": "7g1evcaRpTKm"
      },
      "source": [
        "### **Second model: stacking two LSTM layers**\n",
        "\n",
        "Please refer to https://www.tensorflow.org/text/tutorials/text_classification_rnn for additional explanation + diagram."
      ]
    },
    {
      "cell_type": "markdown",
      "metadata": {
        "id": "wbSClCrG1z8l"
      },
      "source": [
        "**The interesting thing about using an `RNN` with `return_sequences=True` is that the output still has 3-axes, like the input, so it can be passed to another RNN layer, like this:**"
      ]
    },
    {
      "cell_type": "code",
      "execution_count": null,
      "metadata": {
        "id": "jo1jjO3vn0jo"
      },
      "outputs": [],
      "source": [
        "model = tf.keras.Sequential([\n",
        "    encoder,\n",
        "    tf.keras.layers.Embedding(len(encoder.get_vocabulary()), 64, mask_zero=True),\n",
        "    tf.keras.layers.Bidirectional(tf.keras.layers.LSTM(64,  return_sequences=True)),\n",
        "    tf.keras.layers.Bidirectional(tf.keras.layers.LSTM(32)),\n",
        "    tf.keras.layers.Dense(64, activation='relu'),\n",
        "    tf.keras.layers.Dropout(0.5),\n",
        "    tf.keras.layers.Dense(1)\n",
        "])"
      ]
    },
    {
      "cell_type": "code",
      "execution_count": null,
      "metadata": {
        "id": "hEPV5jVGp-is"
      },
      "outputs": [],
      "source": [
        "model.compile(loss=tf.keras.losses.BinaryCrossentropy(from_logits=True),\n",
        "              optimizer=tf.keras.optimizers.Adam(1e-4),\n",
        "              metrics=['accuracy'])"
      ]
    },
    {
      "cell_type": "code",
      "execution_count": null,
      "metadata": {
        "id": "LeSE-YjdqAeN",
        "colab": {
          "base_uri": "https://localhost:8080/"
        },
        "outputId": "1ed984d1-a598-48be-f9e4-947baef20be0"
      },
      "outputs": [
        {
          "output_type": "stream",
          "name": "stdout",
          "text": [
            "Epoch 1/10\n",
            "391/391 [==============================] - 85s 171ms/step - loss: 0.6707 - accuracy: 0.5512 - val_loss: 0.5620 - val_accuracy: 0.7297\n",
            "Epoch 2/10\n",
            "391/391 [==============================] - 50s 126ms/step - loss: 0.4406 - accuracy: 0.8048 - val_loss: 0.3662 - val_accuracy: 0.8422\n",
            "Epoch 3/10\n",
            "391/391 [==============================] - 47s 120ms/step - loss: 0.3498 - accuracy: 0.8484 - val_loss: 0.3349 - val_accuracy: 0.8604\n",
            "Epoch 4/10\n",
            "391/391 [==============================] - 48s 121ms/step - loss: 0.3275 - accuracy: 0.8598 - val_loss: 0.3371 - val_accuracy: 0.8417\n",
            "Epoch 5/10\n",
            "391/391 [==============================] - 46s 118ms/step - loss: 0.3167 - accuracy: 0.8642 - val_loss: 0.3478 - val_accuracy: 0.8573\n",
            "Epoch 6/10\n",
            "391/391 [==============================] - 46s 118ms/step - loss: 0.3100 - accuracy: 0.8681 - val_loss: 0.3155 - val_accuracy: 0.8620\n",
            "Epoch 7/10\n",
            "391/391 [==============================] - 47s 120ms/step - loss: 0.3054 - accuracy: 0.8699 - val_loss: 0.3250 - val_accuracy: 0.8630\n",
            "Epoch 8/10\n",
            "391/391 [==============================] - 47s 120ms/step - loss: 0.3024 - accuracy: 0.8694 - val_loss: 0.3194 - val_accuracy: 0.8479\n",
            "Epoch 9/10\n",
            "391/391 [==============================] - 47s 120ms/step - loss: 0.3030 - accuracy: 0.8707 - val_loss: 0.3159 - val_accuracy: 0.8568\n",
            "Epoch 10/10\n",
            "391/391 [==============================] - 47s 120ms/step - loss: 0.2960 - accuracy: 0.8735 - val_loss: 0.3174 - val_accuracy: 0.8557\n"
          ]
        }
      ],
      "source": [
        "history = model.fit(train_dataset, epochs=10,\n",
        "                    validation_data=test_dataset,\n",
        "                    validation_steps=30)"
      ]
    },
    {
      "cell_type": "code",
      "execution_count": null,
      "metadata": {
        "id": "_LdwilM1qPM3",
        "colab": {
          "base_uri": "https://localhost:8080/"
        },
        "outputId": "9277a07f-b0c2-45bb-d27e-f2fedc2f2e45"
      },
      "outputs": [
        {
          "output_type": "stream",
          "name": "stdout",
          "text": [
            "391/391 [==============================] - 19s 49ms/step - loss: 0.3186 - accuracy: 0.8540\n",
            "Test Loss: 0.318560928106308\n",
            "Test Accuracy: 0.8539599776268005\n"
          ]
        }
      ],
      "source": [
        "test_loss, test_acc = model.evaluate(test_dataset)\n",
        "\n",
        "print('Test Loss:', test_loss)\n",
        "print('Test Accuracy:', test_acc)"
      ]
    },
    {
      "cell_type": "code",
      "execution_count": null,
      "metadata": {
        "id": "ykUKnAoqbycW",
        "colab": {
          "base_uri": "https://localhost:8080/"
        },
        "outputId": "549efcff-951c-4183-febb-5ad575ab50a3"
      },
      "outputs": [
        {
          "output_type": "stream",
          "name": "stdout",
          "text": [
            "1/1 [==============================] - 6s 6s/step\n",
            "[[-1.7261275]]\n"
          ]
        }
      ],
      "source": [
        "# predict on a sample text without padding.\n",
        "\n",
        "sample_text = ('The movie was not good. The animation and the graphics '\n",
        "               'were terrible. I would not recommend this movie.')\n",
        "predictions = model.predict(np.array([sample_text]))\n",
        "print(predictions)"
      ]
    },
    {
      "cell_type": "code",
      "execution_count": null,
      "metadata": {
        "id": "_YYub0EDtwCu",
        "colab": {
          "base_uri": "https://localhost:8080/",
          "height": 460
        },
        "outputId": "7e8996df-f253-4670-d36c-5d7e3a580a21"
      },
      "outputs": [
        {
          "output_type": "display_data",
          "data": {
            "text/plain": [
              "<Figure size 1600x600 with 2 Axes>"
            ],
            "image/png": "[encoded data removed]"
          },
          "metadata": {}
        }
      ],
      "source": [
        "plt.figure(figsize=(16, 6))\n",
        "plt.subplot(1, 2, 1)\n",
        "plot_graphs(history, 'accuracy')\n",
        "plt.subplot(1, 2, 2)\n",
        "plot_graphs(history, 'loss')"
      ]
    },
    {
      "cell_type": "markdown",
      "source": [
        "## **PART 2** - <font color='red'>*Your Turn*</font>"
      ],
      "metadata": {
        "id": "--7pSmkU1lop"
      }
    },
    {
      "cell_type": "markdown",
      "source": [
        "### **Part 2 - Tasks:** *(list of deliverables)*\n",
        "\n",
        "**2.1  &emsp;<font color='red'>(*required*)</font>  &emsp;Improve the solution for IMDB sentiment analysis**\n",
        "<br>\n",
        "\n",
        " >  Write code to produce an additional solution to the movie review problem that outperform the two solutions provided above, i.e, have a higher test accuracy.\n",
        "\n",
        "*You can use a (combination of) different architecture, dropout and/or other regularization strategies, hyperparameter optimizations, masking, pretrained embeddings, or any other acceptable \"trick\" in the deep learning world.*\n",
        "\n",
        "<br><br>\n",
        " **2.2  &emsp;<font color='red'>(*required*)</font> &emsp; Summary Table\n",
        " (Example, manually generated)**\n",
        "\n",
        "You can use the table below to show a summary of the experimental results. **Replace the Test Accuracy values and other contents with your own!**\n",
        "\n",
        "| Method | Test Accuracy | Remarks |\n",
        "| --- | --- | --- |\n",
        "| First model | 0.856 | Baseline |\n",
        "| Second model (LSTM) | 0.851 | Slightly worse than baseline |\n",
        "| *Improved* model / variation of your choice | 0.915 | Best overall |\n",
        "\n",
        "\n",
        "\n"
      ],
      "metadata": {
        "id": "mc61kdVw1lo4"
      }
    },
    {
      "cell_type": "markdown",
      "source": [
        "#### **Part 2 - Required Tasks:**   *(responses & code)*"
      ],
      "metadata": {
        "id": "CovH39sU1lo4"
      }
    },
    {
      "cell_type": "markdown",
      "source": [
        "##### **2.1 Improve the solution for IMDB sentiment analysis**\n",
        "\n",
        " Write code to produce an additional solution to the movie review problem that outperform the two solutions provided above, i.e, have a higher test accuracy."
      ],
      "metadata": {
        "id": "XWwPr1AL1lo4"
      }
    },
    {
      "cell_type": "markdown",
      "source": [
        "###### **2.1.1 Your solution** &emsp; <font color='red'>*(double click to insert model name)*</font > [40 points]"
      ],
      "metadata": {
        "id": "gnUjFV-W1lo5"
      }
    },
    {
      "cell_type": "code",
      "source": [
        "import tensorflow as tf\n",
        "from tensorflow import keras\n",
        "from tensorflow.keras import layers\n",
        "\n",
        "(train_data, train_labels), (test_data, test_labels) = keras.datasets.imdb.load_data(\n",
        "    num_words=10000\n",
        ")\n",
        "\n",
        "max_len = 500\n",
        "train_data = keras.preprocessing.sequence.pad_sequences(train_data, maxlen=max_len)\n",
        "test_data = keras.preprocessing.sequence.pad_sequences(test_data, maxlen=max_len)\n",
        "\n",
        "model = keras.Sequential([\n",
        "    layers.Embedding(input_dim=10000, output_dim=32, input_length=max_len),\n",
        "    layers.Conv1D(64, 5, activation='relu'),\n",
        "    layers.GlobalMaxPooling1D(),\n",
        "    layers.Dense(64, activation='relu'),\n",
        "    layers.Dropout(0.5),\n",
        "    layers.Dense(1, activation='sigmoid')\n",
        "])\n",
        "\n",
        "\n",
        "model.compile(optimizer='adam', loss='binary_crossentropy', metrics=['accuracy'])\n",
        "\n",
        "history = model.fit(\n",
        "    train_data, train_labels,\n",
        "    validation_split=0.2,\n",
        "    epochs=5,\n",
        "    batch_size=64\n",
        ")\n",
        "\n",
        "test_loss, test_acc = model.evaluate(test_data, test_labels)\n",
        "print('Test Loss:', test_loss)\n",
        "print('Test Accuracy:', test_acc)\n"
      ],
      "metadata": {
        "id": "_xgmavqR1lo5",
        "colab": {
          "base_uri": "https://localhost:8080/"
        },
        "outputId": "92ee4afe-9c8d-4971-d4f7-5110b2a0e2dd"
      },
      "execution_count": null,
      "outputs": [
        {
          "output_type": "stream",
          "name": "stdout",
          "text": [
            "Downloading data from https://storage.googleapis.com/tensorflow/tf-keras-datasets/imdb.npz\n",
            "17464789/17464789 [==============================] - 0s 0us/step\n",
            "Epoch 1/5\n",
            "313/313 [==============================] - 58s 163ms/step - loss: 0.5501 - accuracy: 0.6963 - val_loss: 0.3795 - val_accuracy: 0.8318\n",
            "Epoch 2/5\n",
            "313/313 [==============================] - 33s 105ms/step - loss: 0.2928 - accuracy: 0.8808 - val_loss: 0.2743 - val_accuracy: 0.8900\n",
            "Epoch 3/5\n",
            "313/313 [==============================] - 17s 56ms/step - loss: 0.1605 - accuracy: 0.9446 - val_loss: 0.2720 - val_accuracy: 0.8928\n",
            "Epoch 4/5\n",
            "313/313 [==============================] - 15s 46ms/step - loss: 0.0769 - accuracy: 0.9783 - val_loss: 0.3269 - val_accuracy: 0.8868\n",
            "Epoch 5/5\n",
            "313/313 [==============================] - 9s 29ms/step - loss: 0.0316 - accuracy: 0.9937 - val_loss: 0.3582 - val_accuracy: 0.8868\n",
            "782/782 [==============================] - 3s 3ms/step - loss: 0.4041 - accuracy: 0.8735\n",
            "Test Loss: 0.4040582478046417\n",
            "Test Accuracy: 0.873520016670227\n"
          ]
        }
      ]
    },
    {
      "cell_type": "markdown",
      "source": [
        "##### **2.2 Summary Table**\n",
        "\n",
        " **Replace the Test Accuracy values and other contents with your own!**<br>\n",
        " *(double click to modify the table based on your results)*\n",
        "\n",
        "\n",
        "| Method | Test Accuracy | Remarks |\n",
        "| --- | --- | --- |\n",
        "| First model | 0.85 | Baseline |\n",
        "| Second model (LSTM) | 0.87 | Slightly worse than baseline |\n",
        "| *Improved* model / variation of your choice | 0.90 | Best overall |"
      ],
      "metadata": {
        "id": "T7cEVppf1lo8"
      }
    },
    {
      "cell_type": "markdown",
      "source": [
        "## **Part 3: NLP using Transformers**\n",
        "\n",
        "In Part 3 we will look at the Transformer architecture and how it can be used in a specific NLP task, machine translation (from English to Spanish).\n",
        "\n",
        "Please refer to Chapter 11 of [our textbook](https://learning.oreilly.com/library/view/deep-learning-with/9781617296864) for additional information.\n"
      ],
      "metadata": {
        "id": "fC1B01BCE7OJ"
      }
    },
    {
      "cell_type": "markdown",
      "metadata": {
        "id": "ITYmXB88E7Oa"
      },
      "source": [
        "**Useful sources and references for Part 3:**\n",
        "\n",
        "- https://colab.research.google.com/github/fchollet/deep-learning-with-python-notebooks/blob/master/chapter11_part03_transformer.ipynb\n",
        "- https://colab.research.google.com/github/fchollet/deep-learning-with-python-notebooks/blob/master/chapter11_part04_sequence-to-sequence-learning.ipynb\n"
      ]
    },
    {
      "cell_type": "markdown",
      "metadata": {
        "id": "6IwBooqWFQGb"
      },
      "source": [
        "### **Setup**"
      ]
    },
    {
      "cell_type": "code",
      "execution_count": null,
      "metadata": {
        "id": "-uEVqAmHFQGb",
        "colab": {
          "base_uri": "https://localhost:8080/"
        },
        "outputId": "36c95b7b-d54d-4457-9512-02c11f619492"
      },
      "outputs": [
        {
          "output_type": "stream",
          "name": "stdout",
          "text": [
            "--2023-07-18 15:11:01--  http://storage.googleapis.com/download.tensorflow.org/data/spa-eng.zip\n",
            "Resolving storage.googleapis.com (storage.googleapis.com)... 173.194.197.128, 173.194.198.128, 64.233.191.128, ...\n",
            "Connecting to storage.googleapis.com (storage.googleapis.com)|173.194.197.128|:80... connected.\n",
            "HTTP request sent, awaiting response... 200 OK\n",
            "Length: 2638744 (2.5M) [application/zip]\n",
            "Saving to: ‘spa-eng.zip’\n",
            "\n",
            "\rspa-eng.zip           0%[                    ]       0  --.-KB/s               \rspa-eng.zip         100%[===================>]   2.52M  --.-KB/s    in 0.008s  \n",
            "\n",
            "2023-07-18 15:11:01 (318 MB/s) - ‘spa-eng.zip’ saved [2638744/2638744]\n",
            "\n"
          ]
        }
      ],
      "source": [
        "!wget http://storage.googleapis.com/download.tensorflow.org/data/spa-eng.zip\n",
        "!unzip -q spa-eng.zip"
      ]
    },
    {
      "cell_type": "code",
      "execution_count": null,
      "metadata": {
        "id": "eOLIZ9ZtFQGc"
      },
      "outputs": [],
      "source": [
        "text_file = \"spa-eng/spa.txt\"\n",
        "with open(text_file) as f:\n",
        "    lines = f.read().split(\"\\n\")[:-1]\n",
        "text_pairs = []\n",
        "for line in lines:\n",
        "    english, spanish = line.split(\"\\t\")\n",
        "    spanish = \"[start] \" + spanish + \" [end]\"\n",
        "    text_pairs.append((english, spanish))"
      ]
    },
    {
      "cell_type": "code",
      "execution_count": null,
      "metadata": {
        "id": "LvcrsLQhFQGc",
        "colab": {
          "base_uri": "https://localhost:8080/"
        },
        "outputId": "76b39047-32ad-4720-9f41-473ec7347739"
      },
      "outputs": [
        {
          "output_type": "stream",
          "name": "stdout",
          "text": [
            "('Tom was simply in the wrong place at the wrong time.', '[start] Tom tan solo estaba en el lugar equivocado a la hora equivocada. [end]')\n"
          ]
        }
      ],
      "source": [
        "import random\n",
        "print(random.choice(text_pairs))"
      ]
    },
    {
      "cell_type": "code",
      "execution_count": null,
      "metadata": {
        "id": "sgx4dI1OFQGc"
      },
      "outputs": [],
      "source": [
        "import random\n",
        "random.shuffle(text_pairs)\n",
        "num_val_samples = int(0.15 * len(text_pairs))\n",
        "num_train_samples = len(text_pairs) - 2 * num_val_samples\n",
        "train_pairs = text_pairs[:num_train_samples]\n",
        "val_pairs = text_pairs[num_train_samples:num_train_samples + num_val_samples]\n",
        "test_pairs = text_pairs[num_train_samples + num_val_samples:]"
      ]
    },
    {
      "cell_type": "markdown",
      "metadata": {
        "id": "p3a4eNBeFQGd"
      },
      "source": [
        "**Vectorizing the English and Spanish text pairs**"
      ]
    },
    {
      "cell_type": "code",
      "execution_count": null,
      "metadata": {
        "id": "5eQ6EdPZFQGd"
      },
      "outputs": [],
      "source": [
        "import tensorflow as tf\n",
        "import string\n",
        "import re\n",
        "\n",
        "from tensorflow import keras\n",
        "from tensorflow.keras import layers\n",
        "\n",
        "strip_chars = string.punctuation + \"¿\"\n",
        "strip_chars = strip_chars.replace(\"[\", \"\")\n",
        "strip_chars = strip_chars.replace(\"]\", \"\")\n",
        "\n",
        "def custom_standardization(input_string):\n",
        "    lowercase = tf.strings.lower(input_string)\n",
        "    return tf.strings.regex_replace(\n",
        "        lowercase, f\"[{re.escape(strip_chars)}]\", \"\")\n",
        "\n",
        "vocab_size = 15000\n",
        "sequence_length = 20\n",
        "\n",
        "source_vectorization = layers.TextVectorization(\n",
        "    max_tokens=vocab_size,\n",
        "    output_mode=\"int\",\n",
        "    output_sequence_length=sequence_length,\n",
        ")\n",
        "target_vectorization = layers.TextVectorization(\n",
        "    max_tokens=vocab_size,\n",
        "    output_mode=\"int\",\n",
        "    output_sequence_length=sequence_length + 1,\n",
        "    standardize=custom_standardization,\n",
        ")\n",
        "train_english_texts = [pair[0] for pair in train_pairs]\n",
        "train_spanish_texts = [pair[1] for pair in train_pairs]\n",
        "source_vectorization.adapt(train_english_texts)\n",
        "target_vectorization.adapt(train_spanish_texts)"
      ]
    },
    {
      "cell_type": "markdown",
      "metadata": {
        "id": "I8FSpt8VFQGe"
      },
      "source": [
        "**Preparing datasets for the translation task**"
      ]
    },
    {
      "cell_type": "code",
      "execution_count": null,
      "metadata": {
        "id": "LUs8N_zjFQGe"
      },
      "outputs": [],
      "source": [
        "batch_size = 64\n",
        "\n",
        "def format_dataset(eng, spa):\n",
        "    eng = source_vectorization(eng)\n",
        "    spa = target_vectorization(spa)\n",
        "    return ({\n",
        "        \"english\": eng,\n",
        "        \"spanish\": spa[:, :-1],\n",
        "    }, spa[:, 1:])\n",
        "\n",
        "def make_dataset(pairs):\n",
        "    eng_texts, spa_texts = zip(*pairs)\n",
        "    eng_texts = list(eng_texts)\n",
        "    spa_texts = list(spa_texts)\n",
        "    dataset = tf.data.Dataset.from_tensor_slices((eng_texts, spa_texts))\n",
        "    dataset = dataset.batch(batch_size)\n",
        "    dataset = dataset.map(format_dataset, num_parallel_calls=4)\n",
        "    return dataset.shuffle(2048).prefetch(16).cache()\n",
        "\n",
        "train_ds = make_dataset(train_pairs)\n",
        "val_ds = make_dataset(val_pairs)"
      ]
    },
    {
      "cell_type": "code",
      "execution_count": null,
      "metadata": {
        "id": "caWA_b2BFQGe",
        "colab": {
          "base_uri": "https://localhost:8080/"
        },
        "outputId": "38699420-82f9-47ce-cc4e-9fea94d53f1c"
      },
      "outputs": [
        {
          "output_type": "stream",
          "name": "stdout",
          "text": [
            "inputs['english'].shape: (64, 20)\n",
            "inputs['spanish'].shape: (64, 20)\n",
            "targets.shape: (64, 20)\n"
          ]
        }
      ],
      "source": [
        "for inputs, targets in train_ds.take(1):\n",
        "    print(f\"inputs['english'].shape: {inputs['english'].shape}\")\n",
        "    print(f\"inputs['spanish'].shape: {inputs['spanish'].shape}\")\n",
        "    print(f\"targets.shape: {targets.shape}\")"
      ]
    },
    {
      "cell_type": "markdown",
      "metadata": {
        "id": "BL1QeLMLEznr"
      },
      "source": [
        "### **The Transformer encoder**"
      ]
    },
    {
      "cell_type": "code",
      "execution_count": null,
      "metadata": {
        "id": "CTQRyZTKEznt"
      },
      "outputs": [],
      "source": [
        "import tensorflow as tf\n",
        "from tensorflow import keras\n",
        "from tensorflow.keras import layers\n",
        "\n",
        "class TransformerEncoder(layers.Layer):\n",
        "    def __init__(self, embed_dim, dense_dim, num_heads, **kwargs):\n",
        "        super().__init__(**kwargs)\n",
        "        self.embed_dim = embed_dim\n",
        "        self.dense_dim = dense_dim\n",
        "        self.num_heads = num_heads\n",
        "        self.attention = layers.MultiHeadAttention(\n",
        "            num_heads=num_heads, key_dim=embed_dim)\n",
        "        self.dense_proj = keras.Sequential(\n",
        "            [layers.Dense(dense_dim, activation=\"relu\"),\n",
        "             layers.Dense(embed_dim),]\n",
        "        )\n",
        "        self.layernorm_1 = layers.LayerNormalization()\n",
        "        self.layernorm_2 = layers.LayerNormalization()\n",
        "\n",
        "    def call(self, inputs, mask=None):\n",
        "        if mask is not None:\n",
        "            mask = mask[:, tf.newaxis, :]\n",
        "        attention_output = self.attention(\n",
        "            inputs, inputs, attention_mask=mask)\n",
        "        proj_input = self.layernorm_1(inputs + attention_output)\n",
        "        proj_output = self.dense_proj(proj_input)\n",
        "        return self.layernorm_2(proj_input + proj_output)\n",
        "\n",
        "    def get_config(self):\n",
        "        config = super().get_config()\n",
        "        config.update({\n",
        "            \"embed_dim\": self.embed_dim,\n",
        "            \"num_heads\": self.num_heads,\n",
        "            \"dense_dim\": self.dense_dim,\n",
        "        })\n",
        "        return config"
      ]
    },
    {
      "cell_type": "markdown",
      "metadata": {
        "id": "xIPjMfSSFQGg"
      },
      "source": [
        "### **The Transformer decoder**"
      ]
    },
    {
      "cell_type": "code",
      "execution_count": null,
      "metadata": {
        "id": "UvZV_l5QFQGg"
      },
      "outputs": [],
      "source": [
        "class TransformerDecoder(layers.Layer):\n",
        "    def __init__(self, embed_dim, dense_dim, num_heads, **kwargs):\n",
        "        super().__init__(**kwargs)\n",
        "        self.embed_dim = embed_dim\n",
        "        self.dense_dim = dense_dim\n",
        "        self.num_heads = num_heads\n",
        "        self.attention_1 = layers.MultiHeadAttention(\n",
        "            num_heads=num_heads, key_dim=embed_dim)\n",
        "        self.attention_2 = layers.MultiHeadAttention(\n",
        "            num_heads=num_heads, key_dim=embed_dim)\n",
        "        self.dense_proj = keras.Sequential(\n",
        "            [layers.Dense(dense_dim, activation=\"relu\"),\n",
        "             layers.Dense(embed_dim),]\n",
        "        )\n",
        "        self.layernorm_1 = layers.LayerNormalization()\n",
        "        self.layernorm_2 = layers.LayerNormalization()\n",
        "        self.layernorm_3 = layers.LayerNormalization()\n",
        "        self.supports_masking = True\n",
        "\n",
        "    def get_config(self):\n",
        "        config = super().get_config()\n",
        "        config.update({\n",
        "            \"embed_dim\": self.embed_dim,\n",
        "            \"num_heads\": self.num_heads,\n",
        "            \"dense_dim\": self.dense_dim,\n",
        "        })\n",
        "        return config\n",
        "\n",
        "    def get_causal_attention_mask(self, inputs):\n",
        "        input_shape = tf.shape(inputs)\n",
        "        batch_size, sequence_length = input_shape[0], input_shape[1]\n",
        "        i = tf.range(sequence_length)[:, tf.newaxis]\n",
        "        j = tf.range(sequence_length)\n",
        "        mask = tf.cast(i >= j, dtype=\"int32\")\n",
        "        mask = tf.reshape(mask, (1, input_shape[1], input_shape[1]))\n",
        "        mult = tf.concat(\n",
        "            [tf.expand_dims(batch_size, -1),\n",
        "             tf.constant([1, 1], dtype=tf.int32)], axis=0)\n",
        "        return tf.tile(mask, mult)\n",
        "\n",
        "    def call(self, inputs, encoder_outputs, mask=None):\n",
        "        causal_mask = self.get_causal_attention_mask(inputs)\n",
        "        if mask is not None:\n",
        "            padding_mask = tf.cast(\n",
        "                mask[:, tf.newaxis, :], dtype=\"int32\")\n",
        "            padding_mask = tf.minimum(padding_mask, causal_mask)\n",
        "        attention_output_1 = self.attention_1(\n",
        "            query=inputs,\n",
        "            value=inputs,\n",
        "            key=inputs,\n",
        "            attention_mask=causal_mask)\n",
        "        attention_output_1 = self.layernorm_1(inputs + attention_output_1)\n",
        "        attention_output_2 = self.attention_2(\n",
        "            query=attention_output_1,\n",
        "            value=encoder_outputs,\n",
        "            key=encoder_outputs,\n",
        "            attention_mask=padding_mask,\n",
        "        )\n",
        "        attention_output_2 = self.layernorm_2(\n",
        "            attention_output_1 + attention_output_2)\n",
        "        proj_output = self.dense_proj(attention_output_2)\n",
        "        return self.layernorm_3(attention_output_2 + proj_output)"
      ]
    },
    {
      "cell_type": "markdown",
      "metadata": {
        "id": "YnebEA1XFQGg"
      },
      "source": [
        "### Putting it all together: A Transformer for machine translation"
      ]
    },
    {
      "cell_type": "markdown",
      "metadata": {
        "id": "PkPhTo11FQGg"
      },
      "source": [
        "**PositionalEmbedding layer**"
      ]
    },
    {
      "cell_type": "code",
      "execution_count": null,
      "metadata": {
        "id": "farM4iYXFQGg"
      },
      "outputs": [],
      "source": [
        "class PositionalEmbedding(layers.Layer):\n",
        "    def __init__(self, sequence_length, input_dim, output_dim, **kwargs):\n",
        "        super().__init__(**kwargs)\n",
        "        self.token_embeddings = layers.Embedding(\n",
        "            input_dim=input_dim, output_dim=output_dim)\n",
        "        self.position_embeddings = layers.Embedding(\n",
        "            input_dim=sequence_length, output_dim=output_dim)\n",
        "        self.sequence_length = sequence_length\n",
        "        self.input_dim = input_dim\n",
        "        self.output_dim = output_dim\n",
        "\n",
        "    def call(self, inputs):\n",
        "        length = tf.shape(inputs)[-1]\n",
        "        positions = tf.range(start=0, limit=length, delta=1)\n",
        "        embedded_tokens = self.token_embeddings(inputs)\n",
        "        embedded_positions = self.position_embeddings(positions)\n",
        "        return embedded_tokens + embedded_positions\n",
        "\n",
        "    def compute_mask(self, inputs, mask=None):\n",
        "        return tf.math.not_equal(inputs, 0)\n",
        "\n",
        "    def get_config(self):\n",
        "        config = super(PositionalEmbedding, self).get_config()\n",
        "        config.update({\n",
        "            \"output_dim\": self.output_dim,\n",
        "            \"sequence_length\": self.sequence_length,\n",
        "            \"input_dim\": self.input_dim,\n",
        "        })\n",
        "        return config"
      ]
    },
    {
      "cell_type": "markdown",
      "metadata": {
        "id": "yvRcD-XAFQGh"
      },
      "source": [
        "**End-to-end Transformer**"
      ]
    },
    {
      "cell_type": "code",
      "execution_count": null,
      "metadata": {
        "id": "JaZQjjcYFQGh"
      },
      "outputs": [],
      "source": [
        "embed_dim = 256\n",
        "dense_dim = 2048\n",
        "num_heads = 8\n",
        "\n",
        "encoder_inputs = keras.Input(shape=(None,), dtype=\"int64\", name=\"english\")\n",
        "x = PositionalEmbedding(sequence_length, vocab_size, embed_dim)(encoder_inputs)\n",
        "encoder_outputs = TransformerEncoder(embed_dim, dense_dim, num_heads)(x)\n",
        "\n",
        "decoder_inputs = keras.Input(shape=(None,), dtype=\"int64\", name=\"spanish\")\n",
        "x = PositionalEmbedding(sequence_length, vocab_size, embed_dim)(decoder_inputs)\n",
        "x = TransformerDecoder(embed_dim, dense_dim, num_heads)(x, encoder_outputs)\n",
        "x = layers.Dropout(0.5)(x)\n",
        "decoder_outputs = layers.Dense(vocab_size, activation=\"softmax\")(x)\n",
        "transformer = keras.Model([encoder_inputs, decoder_inputs], decoder_outputs)"
      ]
    },
    {
      "cell_type": "markdown",
      "metadata": {
        "id": "trkoQ4TVFQGh"
      },
      "source": [
        "**Training the sequence-to-sequence Transformer**"
      ]
    },
    {
      "cell_type": "code",
      "execution_count": null,
      "metadata": {
        "id": "m564inrUFQGh",
        "colab": {
          "base_uri": "https://localhost:8080/"
        },
        "outputId": "afcd9406-622d-49dc-adbd-d640a263cc1d"
      },
      "outputs": [
        {
          "output_type": "stream",
          "name": "stdout",
          "text": [
            "Epoch 1/10\n",
            "1302/1302 [==============================] - 117s 83ms/step - loss: 3.7906 - accuracy: 0.4400 - val_loss: 2.8653 - val_accuracy: 0.5361\n",
            "Epoch 2/10\n",
            "1302/1302 [==============================] - 88s 68ms/step - loss: 2.8483 - accuracy: 0.5503 - val_loss: 2.5211 - val_accuracy: 0.5846\n",
            "Epoch 3/10\n",
            "1302/1302 [==============================] - 88s 68ms/step - loss: 2.5552 - accuracy: 0.5934 - val_loss: 2.3858 - val_accuracy: 0.6097\n",
            "Epoch 4/10\n",
            "1302/1302 [==============================] - 88s 68ms/step - loss: 2.3956 - accuracy: 0.6194 - val_loss: 2.3333 - val_accuracy: 0.6232\n",
            "Epoch 5/10\n",
            "1302/1302 [==============================] - 90s 69ms/step - loss: 2.2903 - accuracy: 0.6378 - val_loss: 2.3191 - val_accuracy: 0.6294\n",
            "Epoch 6/10\n",
            "1302/1302 [==============================] - 88s 68ms/step - loss: 2.2191 - accuracy: 0.6509 - val_loss: 2.2981 - val_accuracy: 0.6351\n",
            "Epoch 7/10\n",
            "1302/1302 [==============================] - 88s 68ms/step - loss: 2.1604 - accuracy: 0.6627 - val_loss: 2.3171 - val_accuracy: 0.6307\n",
            "Epoch 8/10\n",
            "1302/1302 [==============================] - 89s 68ms/step - loss: 2.1028 - accuracy: 0.6740 - val_loss: 2.2713 - val_accuracy: 0.6443\n",
            "Epoch 9/10\n",
            "1302/1302 [==============================] - 88s 68ms/step - loss: 2.0428 - accuracy: 0.6853 - val_loss: 2.2378 - val_accuracy: 0.6543\n",
            "Epoch 10/10\n",
            "1302/1302 [==============================] - 88s 68ms/step - loss: 1.9945 - accuracy: 0.6939 - val_loss: 2.2286 - val_accuracy: 0.6581\n"
          ]
        },
        {
          "output_type": "execute_result",
          "data": {
            "text/plain": [
              "<keras.callbacks.History at 0x7dbbfc4788b0>"
            ]
          },
          "metadata": {},
          "execution_count": 53
        }
      ],
      "source": [
        "transformer.compile(\n",
        "    optimizer=\"rmsprop\",\n",
        "    loss=\"sparse_categorical_crossentropy\",\n",
        "    metrics=[\"accuracy\"])\n",
        "transformer.fit(train_ds, epochs=10, validation_data=val_ds)"
      ]
    },
    {
      "cell_type": "markdown",
      "metadata": {
        "id": "UNa1godRFQGh"
      },
      "source": [
        "**Translating new sentences with our Transformer model**"
      ]
    },
    {
      "cell_type": "code",
      "execution_count": null,
      "metadata": {
        "id": "9gAvOuwtFQGh",
        "colab": {
          "base_uri": "https://localhost:8080/"
        },
        "outputId": "180b6a0f-701e-4b58-a675-fcb9cf855b16"
      },
      "outputs": [
        {
          "output_type": "stream",
          "name": "stdout",
          "text": [
            "-\n",
            "Could you speak a little louder please?\n",
            "[start] podrías hablar más despacio por favor [end]\n",
            "-\n",
            "Tom couldn't contain his anger.\n",
            "[start] tom no pudo [UNK] su [UNK] [end]\n",
            "-\n",
            "I hope it rains.\n",
            "[start] espero que llueve [end]\n",
            "-\n",
            "Traffic accidents happen every day.\n",
            "[start] los días nos va a pasar la cena en día [end]\n",
            "-\n",
            "Tom actually figured it out by himself.\n",
            "[start] tom de hecho de realidad en realidad solo [end]\n",
            "-\n",
            "Do you have a headache?\n",
            "[start] tienes un dolor de cabeza [end]\n",
            "-\n",
            "Some people say that French is one of the most beautiful languages in the world.\n",
            "[start] algunas personas dicen que el mundo es de tu mayoría de inglés más guapa [end]\n",
            "-\n",
            "We want one.\n",
            "[start] queremos un [end]\n",
            "-\n",
            "I know that you all are cowards.\n",
            "[start] sé que eres un eres para todos los jóvenes [end]\n",
            "-\n",
            "I was lucky that the policeman didn't give me a ticket for making a U-turn at an intersection that had a no U-turn sign.\n",
            "[start] tuve la suerte de que no tenía un niño por hacer un autobús que tenía ni un [UNK] en [UNK]\n",
            "-\n",
            "She volunteered to go to the meeting with him.\n",
            "[start] ella se paró para ir con la reunión con él [end]\n",
            "-\n",
            "Tom's cat had nine kittens.\n",
            "[start] la gato de tom tenía la diferencia de las nueve [end]\n",
            "-\n",
            "I'm not interrupting anything, am I?\n",
            "[start] no estoy [UNK] nada que yo [end]\n",
            "-\n",
            "No one knows the answer.\n",
            "[start] nadie puede responder a la respuesta [end]\n",
            "-\n",
            "If you keep fish in a fish bowl, you should change the water at least once a week.\n",
            "[start] si quieres comer pescado en un pescado al día deberías [UNK] en un año [end]\n",
            "-\n",
            "He wears glasses.\n",
            "[start] Él lleva gafas [end]\n",
            "-\n",
            "May I take your picture?\n",
            "[start] puedo [UNK] tu foto [end]\n",
            "-\n",
            "It's five o'clock.\n",
            "[start] son las cinco [end]\n",
            "-\n",
            "Is that for sale?\n",
            "[start] es por la venta [end]\n",
            "-\n",
            "The letter was signed by Tom.\n",
            "[start] la carta estaba en tom [end]\n"
          ]
        }
      ],
      "source": [
        "import numpy as np\n",
        "spa_vocab = target_vectorization.get_vocabulary()\n",
        "spa_index_lookup = dict(zip(range(len(spa_vocab)), spa_vocab))\n",
        "max_decoded_sentence_length = 20\n",
        "\n",
        "def decode_sequence(input_sentence):\n",
        "    tokenized_input_sentence = source_vectorization([input_sentence])\n",
        "    decoded_sentence = \"[start]\"\n",
        "    for i in range(max_decoded_sentence_length):\n",
        "        tokenized_target_sentence = target_vectorization(\n",
        "            [decoded_sentence])[:, :-1]\n",
        "        predictions = transformer(\n",
        "            [tokenized_input_sentence, tokenized_target_sentence])\n",
        "        sampled_token_index = np.argmax(predictions[0, i, :])\n",
        "        sampled_token = spa_index_lookup[sampled_token_index]\n",
        "        decoded_sentence += \" \" + sampled_token\n",
        "        if sampled_token == \"[end]\":\n",
        "            break\n",
        "    return decoded_sentence\n",
        "\n",
        "test_eng_texts = [pair[0] for pair in test_pairs]\n",
        "for _ in range(20):\n",
        "    input_sentence = random.choice(test_eng_texts)\n",
        "    print(\"-\")\n",
        "    print(input_sentence)\n",
        "    print(decode_sequence(input_sentence))"
      ]
    },
    {
      "cell_type": "markdown",
      "source": [
        "## **Part 4: IMDB sentiment analysis using Transformers (OPTIONAL)** [15 points]\n",
        "\n",
        "In Part 4 you are encouraged to use a transformer model to solve the IMDB review sentiment analysis problem (with the same dataset as Part 2) and compare the results.\n"
      ],
      "metadata": {
        "id": "JRW8vUpsnhCO"
      }
    },
    {
      "cell_type": "markdown",
      "source": [
        "##### **4.1 Your solution** &emsp;"
      ],
      "metadata": {
        "id": "SZjHveOun55v"
      }
    },
    {
      "cell_type": "code",
      "source": [
        "!pip install transformers"
      ],
      "metadata": {
        "colab": {
          "base_uri": "https://localhost:8080/"
        },
        "id": "EGWCqdharIGH",
        "outputId": "dd1f42a1-8895-477b-a948-96875cd81c14"
      },
      "execution_count": null,
      "outputs": [
        {
          "output_type": "stream",
          "name": "stdout",
          "text": [
            "Collecting transformers\n",
            "  Downloading transformers-4.30.2-py3-none-any.whl (7.2 MB)\n",
            "\u001b[2K     \u001b[90m━━━━━━━━━━━━━━━━━━━━━━━━━━━━━━━━━━━━━━━━\u001b[0m \u001b[32m7.2/7.2 MB\u001b[0m \u001b[31m50.9 MB/s\u001b[0m eta \u001b[36m0:00:00\u001b[0m\n",
            "\u001b[?25hRequirement already satisfied: filelock in /usr/local/lib/python3.10/dist-packages (from transformers) (3.12.2)\n",
            "Collecting huggingface-hub<1.0,>=0.14.1 (from transformers)\n",
            "  Downloading huggingface_hub-0.16.4-py3-none-any.whl (268 kB)\n",
            "\u001b[2K     \u001b[90m━━━━━━━━━━━━━━━━━━━━━━━━━━━━━━━━━━━━━━\u001b[0m \u001b[32m268.8/268.8 kB\u001b[0m \u001b[31m34.9 MB/s\u001b[0m eta \u001b[36m0:00:00\u001b[0m\n",
            "\u001b[?25hRequirement already satisfied: numpy>=1.17 in /usr/local/lib/python3.10/dist-packages (from transformers) (1.22.4)\n",
            "Requirement already satisfied: packaging>=20.0 in /usr/local/lib/python3.10/dist-packages (from transformers) (23.1)\n",
            "Requirement already satisfied: pyyaml>=5.1 in /usr/local/lib/python3.10/dist-packages (from transformers) (6.0)\n",
            "Requirement already satisfied: regex!=2019.12.17 in /usr/local/lib/python3.10/dist-packages (from transformers) (2022.10.31)\n",
            "Requirement already satisfied: requests in /usr/local/lib/python3.10/dist-packages (from transformers) (2.27.1)\n",
            "Collecting tokenizers!=0.11.3,<0.14,>=0.11.1 (from transformers)\n",
            "  Downloading tokenizers-0.13.3-cp310-cp310-manylinux_2_17_x86_64.manylinux2014_x86_64.whl (7.8 MB)\n",
            "\u001b[2K     \u001b[90m━━━━━━━━━━━━━━━━━━━━━━━━━━━━━━━━━━━━━━━━\u001b[0m \u001b[32m7.8/7.8 MB\u001b[0m \u001b[31m105.3 MB/s\u001b[0m eta \u001b[36m0:00:00\u001b[0m\n",
            "\u001b[?25hCollecting safetensors>=0.3.1 (from transformers)\n",
            "  Downloading safetensors-0.3.1-cp310-cp310-manylinux_2_17_x86_64.manylinux2014_x86_64.whl (1.3 MB)\n",
            "\u001b[2K     \u001b[90m━━━━━━━━━━━━━━━━━━━━━━━━━━━━━━━━━━━━━━━━\u001b[0m \u001b[32m1.3/1.3 MB\u001b[0m \u001b[31m67.8 MB/s\u001b[0m eta \u001b[36m0:00:00\u001b[0m\n",
            "\u001b[?25hRequirement already satisfied: tqdm>=4.27 in /usr/local/lib/python3.10/dist-packages (from transformers) (4.65.0)\n",
            "Requirement already satisfied: fsspec in /usr/local/lib/python3.10/dist-packages (from huggingface-hub<1.0,>=0.14.1->transformers) (2023.6.0)\n",
            "Requirement already satisfied: typing-extensions>=3.7.4.3 in /usr/local/lib/python3.10/dist-packages (from huggingface-hub<1.0,>=0.14.1->transformers) (4.7.1)\n",
            "Requirement already satisfied: urllib3<1.27,>=1.21.1 in /usr/local/lib/python3.10/dist-packages (from requests->transformers) (1.26.16)\n",
            "Requirement already satisfied: certifi>=2017.4.17 in /usr/local/lib/python3.10/dist-packages (from requests->transformers) (2023.5.7)\n",
            "Requirement already satisfied: charset-normalizer~=2.0.0 in /usr/local/lib/python3.10/dist-packages (from requests->transformers) (2.0.12)\n",
            "Requirement already satisfied: idna<4,>=2.5 in /usr/local/lib/python3.10/dist-packages (from requests->transformers) (3.4)\n",
            "Installing collected packages: tokenizers, safetensors, huggingface-hub, transformers\n",
            "Successfully installed huggingface-hub-0.16.4 safetensors-0.3.1 tokenizers-0.13.3 transformers-4.30.2\n"
          ]
        }
      ]
    },
    {
      "cell_type": "code",
      "source": [
        "import tensorflow as tf\n",
        "from tensorflow import keras\n",
        "from tensorflow.keras import layers\n",
        "\n",
        "(train_data, train_labels), (test_data, test_labels) = keras.datasets.imdb.load_data(num_words=10000)\n",
        "\n",
        "max_length = 200\n",
        "train_data = keras.preprocessing.sequence.pad_sequences(train_data, maxlen=max_length)\n",
        "test_data = keras.preprocessing.sequence.pad_sequences(test_data, maxlen=max_length)\n",
        "\n",
        "embed_dim = 32\n",
        "num_heads = 2\n",
        "feed_forward_dim = 32\n",
        "dropout_rate = 0.1\n",
        "\n",
        "def transformer_encoder(inputs, head_size, num_heads, ff_dim, dropout=0):\n",
        "    x = inputs\n",
        "    attention_out = layers.MultiHeadAttention(\n",
        "        num_heads=num_heads, key_dim=head_size, dropout=dropout\n",
        "    )(x, x)\n",
        "    attention_out = layers.LayerNormalization(epsilon=1e-6)(x + attention_out)\n",
        "    ffn = keras.Sequential([\n",
        "        layers.Dense(ff_dim, activation=\"relu\"),\n",
        "        layers.Dense(head_size),\n",
        "    ])\n",
        "    ffn_out = ffn(attention_out)\n",
        "    ffn_out = layers.Dropout(dropout)(ffn_out)\n",
        "    x = layers.LayerNormalization(epsilon=1e-6)(attention_out + ffn_out)\n",
        "    return x\n",
        "\n",
        "inputs = layers.Input(shape=(max_length,))\n",
        "embedding_layer = layers.Embedding(10000, embed_dim)(inputs)\n",
        "x = transformer_encoder(embedding_layer, embed_dim, num_heads, feed_forward_dim, dropout_rate)\n",
        "x = layers.GlobalAveragePooling1D()(x)\n",
        "x = layers.Dropout(0.1)(x)\n",
        "x = layers.Dense(20, activation=\"relu\")(x)\n",
        "x = layers.Dropout(0.1)(x)\n",
        "outputs = layers.Dense(1, activation=\"sigmoid\")(x)\n",
        "\n",
        "model = keras.Model(inputs, outputs)\n",
        "model.summary()\n",
        "\n",
        "model.compile(optimizer=\"adam\", loss=\"binary_crossentropy\", metrics=[\"accuracy\"])\n",
        "history = model.fit(train_data, train_labels, batch_size=32, epochs=2, validation_split=0.2)\n",
        "\n",
        "test_loss, test_acc = model.evaluate(test_data, test_labels)\n",
        "print(\"Test Loss:\", test_loss)\n",
        "print(\"Test Accuracy:\", test_acc)\n"
      ],
      "metadata": {
        "colab": {
          "base_uri": "https://localhost:8080/"
        },
        "id": "fEfYosYnqCBU",
        "outputId": "5934ee12-9605-4546-9d14-07ce84403b43"
      },
      "execution_count": null,
      "outputs": [
        {
          "output_type": "stream",
          "name": "stdout",
          "text": [
            "Model: \"model_3\"\n",
            "__________________________________________________________________________________________________\n",
            " Layer (type)                   Output Shape         Param #     Connected to                     \n",
            "==================================================================================================\n",
            " input_9 (InputLayer)           [(None, 200)]        0           []                               \n",
            "                                                                                                  \n",
            " embedding_13 (Embedding)       (None, 200, 32)      320000      ['input_9[0][0]']                \n",
            "                                                                                                  \n",
            " multi_head_attention_3 (MultiH  (None, 200, 32)     8416        ['embedding_13[0][0]',           \n",
            " eadAttention)                                                    'embedding_13[0][0]']           \n",
            "                                                                                                  \n",
            " tf.__operators__.add (TFOpLamb  (None, 200, 32)     0           ['embedding_13[0][0]',           \n",
            " da)                                                              'multi_head_attention_3[0][0]'] \n",
            "                                                                                                  \n",
            " layer_normalization_5 (LayerNo  (None, 200, 32)     64          ['tf.__operators__.add[0][0]']   \n",
            " rmalization)                                                                                     \n",
            "                                                                                                  \n",
            " sequential_5 (Sequential)      (None, 200, 32)      2112        ['layer_normalization_5[0][0]']  \n",
            "                                                                                                  \n",
            " dropout_4 (Dropout)            (None, 200, 32)      0           ['sequential_5[0][0]']           \n",
            "                                                                                                  \n",
            " tf.__operators__.add_1 (TFOpLa  (None, 200, 32)     0           ['layer_normalization_5[0][0]',  \n",
            " mbda)                                                            'dropout_4[0][0]']              \n",
            "                                                                                                  \n",
            " layer_normalization_6 (LayerNo  (None, 200, 32)     64          ['tf.__operators__.add_1[0][0]'] \n",
            " rmalization)                                                                                     \n",
            "                                                                                                  \n",
            " global_average_pooling1d (Glob  (None, 32)          0           ['layer_normalization_6[0][0]']  \n",
            " alAveragePooling1D)                                                                              \n",
            "                                                                                                  \n",
            " dropout_5 (Dropout)            (None, 32)           0           ['global_average_pooling1d[0][0]'\n",
            "                                                                 ]                                \n",
            "                                                                                                  \n",
            " dense_15 (Dense)               (None, 20)           660         ['dropout_5[0][0]']              \n",
            "                                                                                                  \n",
            " dropout_6 (Dropout)            (None, 20)           0           ['dense_15[0][0]']               \n",
            "                                                                                                  \n",
            " dense_16 (Dense)               (None, 1)            21          ['dropout_6[0][0]']              \n",
            "                                                                                                  \n",
            "==================================================================================================\n",
            "Total params: 331,337\n",
            "Trainable params: 331,337\n",
            "Non-trainable params: 0\n",
            "__________________________________________________________________________________________________\n",
            "Epoch 1/2\n",
            "625/625 [==============================] - 64s 92ms/step - loss: 0.3865 - accuracy: 0.8207 - val_loss: 0.2942 - val_accuracy: 0.8752\n",
            "Epoch 2/2\n",
            "625/625 [==============================] - 18s 29ms/step - loss: 0.2156 - accuracy: 0.9151 - val_loss: 0.2936 - val_accuracy: 0.8826\n",
            "782/782 [==============================] - 4s 5ms/step - loss: 0.3169 - accuracy: 0.8675\n",
            "Test Loss: 0.3169403076171875\n",
            "Test Accuracy: 0.8675199747085571\n"
          ]
        }
      ]
    },
    {
      "cell_type": "markdown",
      "metadata": {
        "id": "FsPk1WFP7l2o"
      },
      "source": [
        "## **Part 5: Conclusions -** *Your Turn* [20 points]\n",
        "\n",
        "\n",
        "\n",
        "***(Things to think about)*** Reflect on the tasks completed and the results obtained. Why did your models yield the results that they did? What worked as expected, what did not? and why?  What parameters had an impact? Why do you think that is the case? Does the metric used to evaluate the model matter (Accuracy/MAE)? So many other things that can be considered in your conclusions.\n",
        "\n",
        "If you had extra time available, what else would you do to gain further insights from this notebook?\n",
        "\n",
        "**Write your conclusions here.**"
      ]
    },
    {
      "cell_type": "markdown",
      "source": [
        "Reflecting on the tasks completed and the results obtained, we can gain valuable insights into the models and their performance:\n",
        "1. Model Results: The models' performance varied depending on the task and the dataset. The LSTM-based model yielded reasonable results for temperature forecasting, while the Transformer model showed promising results for IMDB sentiment analysis.\n",
        "2. Factors Affecting Results:\n",
        "Model Architecture: The choice of model architecture played a significant role in the results. LSTMs performed well for time series forecasting tasks, while Transformers excelled in natural language processing tasks.\n",
        "Hyperparameters: Hyperparameters such as the number of layers, hidden units, learning rate, and dropout rate influence the model performance. Optimizing these hyperparameters is crucial for obtaining better results.\n",
        "Dataset Characteristics: The nature and size of the dataset also impacted the model's performance. A large and diverse dataset often leads to better generalization, while a small dataset may result in overfitting.\n",
        "1. Evaluation Metric: The choice of evaluation metric depends on the task at hand. Accuracy is commonly used for classification tasks, while Mean Absolute Error (MAE) is preferred for regression tasks. Selecting an appropriate evaluation metric that aligns with the task requirements is essential.\n",
        "2. Further Insights and Future Work:\n",
        "Fine-tuning: To gain further insights, we could explore fine-tuning pre-trained models such as BERT or GPT, which have shown exceptional performance in various NLP tasks.\n",
        "Ensemble Methods: Combining multiple models through ensemble methods, such as bagging or stacking, could improve overall performance.\n",
        "Cross-validation: Performing cross-validation to assess model stability and generalize the performance across different subsets of the dataset.\n",
        "Hyperparameter Optimization: Conducting a more comprehensive hyperparameter search using techniques like grid search or Bayesian optimization to find optimal parameter values.\n",
        "Error Analysis: Analyzing model errors and misclassifications to identify common patterns or challenging cases and refine the models accordingly.\n",
        "Transfer Learning: Exploring the use of transfer learning by leveraging pre-trained models on similar tasks or domains to boost performance.\n",
        "Interpretability: Employing techniques to interpret model predictions, such as attention mechanisms or saliency maps, to gain insights into the model's decision-making process.\n",
        "\n",
        "In conclusion, architecture, hyperparameters, dataset characteristics, and evaluation metrics influenced the models' performance. Further improvements can be made through fine-tuning, ensemble methods, cross-validation, hyperparameter optimization, error analysis, transfer learning, and interpretability techniques. These steps provide additional insights and potentially enhance the models' performance for the respective tasks."
      ],
      "metadata": {
        "id": "2E-dKkngt5Vb"
      }
    }
  ]
}